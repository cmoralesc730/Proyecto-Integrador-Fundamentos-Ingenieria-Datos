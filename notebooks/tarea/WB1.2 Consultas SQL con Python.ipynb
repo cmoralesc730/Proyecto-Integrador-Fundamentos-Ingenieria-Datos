{
 "cells": [
  {
   "cell_type": "markdown",
   "id": "d4f42b75-84a3-4353-b3ec-6d9c5abd82da",
   "metadata": {},
   "source": [
    "# WB4.3 Introducción a SQL\n",
    "\n",
    "En esta cuaderno de trabajo se explorarán la base de datos `music.db` mediante consultas de SQL. La base de datos contiene tres tablas:\n",
    "* `songs`, que contiene un identificador `_id`, el título de la canción `title` y el album `album`. \n",
    "* `albums`, que contiene un identificador `_id`, el nombre del album `name` y el artista `artist`. \n",
    "* `artists`, que contiene un identificador `_id` y su nombre `name`. \n",
    "\n",
    "Completa las siguientes instrucciones de acuerdo a lo visto en el tema."
   ]
  },
  {
   "cell_type": "markdown",
   "id": "5e6d0b6b-2fb4-4f28-9baf-cdbe85c06497",
   "metadata": {},
   "source": [
    "## 1. Acceso a los Datos con Queries."
   ]
  },
  {
   "cell_type": "markdown",
   "id": "5c503d46-1a47-4968-aa89-a4024569ae18",
   "metadata": {},
   "source": [
    "1. Crea la conexión y un cursor a la base de datos."
   ]
  },
  {
   "cell_type": "code",
   "execution_count": 1,
   "id": "ed933d5d-df90-41d8-8dfd-adf7b158ecd6",
   "metadata": {},
   "outputs": [],
   "source": [
    "import sqlite3\n",
    "import os\n",
    "\n",
    "DB_PATH = \"music.db\"\n",
    "\n",
    "if not os.path.exists(DB_PATH):\n",
    "    raise FileNotFoundError(f\"No se encontró '{DB_PATH}' en el directorio actual: {os.getcwd()}\")\n",
    "\n",
    "conn = sqlite3.connect(DB_PATH)\n",
    "\n",
    "conn.row_factory = sqlite3.Row\n",
    "\n",
    "cur = conn.cursor()"
   ]
  },
  {
   "cell_type": "markdown",
   "id": "9d8fb880-6422-43d6-a493-154145b8c6ac",
   "metadata": {},
   "source": [
    "2. Explora todas las columnas en todas antes mencionadas tablas. Muestra los primeros 10 registros."
   ]
  },
  {
   "cell_type": "code",
   "execution_count": 2,
   "id": "69ca23df-d910-4a5d-ae0b-660fef5e9dd6",
   "metadata": {},
   "outputs": [
    {
     "name": "stdout",
     "output_type": "stream",
     "text": [
      "Columnas: ['_id', 'track', 'title', 'album']\n",
      "{'_id': 1, 'track': 2, 'title': \"I Can't Quit You Baby\", 'album': 343}\n",
      "{'_id': 2, 'track': 1, 'title': 'Taking the Easy Way Out Again', 'album': 311}\n",
      "{'_id': 3, 'track': 6, 'title': \"Let's Have A Party\", 'album': 260}\n",
      "{'_id': 4, 'track': 7, 'title': 'Flaming Telepaths', 'album': 104}\n",
      "{'_id': 5, 'track': 11, 'title': \"Yearnin'\", 'album': 37}\n",
      "{'_id': 6, 'track': 1, 'title': 'Bat Out Of Hell', 'album': 290}\n",
      "{'_id': 7, 'track': 5, 'title': 'Evil Woman', 'album': 143}\n",
      "{'_id': 8, 'track': 7, 'title': 'Rat Salad', 'album': 50}\n",
      "{'_id': 9, 'track': 8, 'title': 'Young is a World', 'album': 402}\n",
      "{'_id': 10, 'track': 3, 'title': 'Sam With The Showing Scalp Flat Top', 'album': 429}\n",
      "Columnas: ['_id', 'name', 'artist']\n",
      "{'_id': 1, 'name': 'Tales of the Crown', 'artist': 16}\n",
      "{'_id': 2, 'name': 'The Masquerade Ball', 'artist': 16}\n",
      "{'_id': 3, 'name': 'Grace', 'artist': 159}\n",
      "{'_id': 4, 'name': 'Behind Closed Doors', 'artist': 147}\n",
      "{'_id': 5, 'name': 'Day & Age', 'artist': 121}\n",
      "{'_id': 6, 'name': 'Sweet Fanny Adams', 'artist': 172}\n",
      "{'_id': 7, 'name': 'Spem In Alium', 'artist': 199}\n",
      "{'_id': 8, 'name': 'Night In The Ruts', 'artist': 152}\n",
      "{'_id': 9, 'name': 'Impurity', 'artist': 95}\n",
      "{'_id': 10, 'name': 'Concerto For Group and Orchestra', 'artist': 196}\n",
      "Columnas: ['_id', 'name']\n",
      "{'_id': 1, 'name': 'Mahogany Rush'}\n",
      "{'_id': 2, 'name': 'Elf'}\n",
      "{'_id': 3, 'name': 'Mehitabel'}\n",
      "{'_id': 4, 'name': 'Big Brother & The Holding Company'}\n",
      "{'_id': 5, 'name': 'Roy Harper'}\n",
      "{'_id': 6, 'name': 'Pat Benatar'}\n",
      "{'_id': 7, 'name': 'Rory Gallagher'}\n",
      "{'_id': 8, 'name': 'Iron Maiden'}\n",
      "{'_id': 9, 'name': 'Blaster Bates'}\n",
      "{'_id': 10, 'name': 'Procol Harum'}\n"
     ]
    }
   ],
   "source": [
    "tablas = [\"songs\", \"albums\", \"artists\"]\n",
    "\n",
    "for tabla in tablas:\n",
    "    cur.execute(f\"PRAGMA table_info({tabla});\")\n",
    "    columnas = [col[1] for col in cur.fetchall()]\n",
    "    print(\"Columnas:\", columnas)\n",
    "    \n",
    "    cur.execute(f\"SELECT * FROM {tabla} LIMIT 10;\")\n",
    "    registros = cur.fetchall()\n",
    "    for fila in registros:\n",
    "        print(dict(zip(columnas, fila)))"
   ]
  },
  {
   "cell_type": "markdown",
   "id": "912edb7c-ddc4-4d9b-ad51-347226155c0f",
   "metadata": {},
   "source": [
    "3. Iron Maiden tiene como `_id = 8`en la tabla de artistas. Emplea este id para identificar sus álbumes en la tabla `albums`. Observa que la columna `artist` hace referencia a los id de los artistas. "
   ]
  },
  {
   "cell_type": "code",
   "execution_count": 3,
   "id": "707ba2e3-0715-4255-8b46-311b4c98928e",
   "metadata": {},
   "outputs": [
    {
     "name": "stdout",
     "output_type": "stream",
     "text": [
      "Álbumes de Iron Maiden:\n",
      "{'_id': 236, 'name': 'The Number of the Beast'}\n",
      "{'_id': 412, 'name': 'Powerslave'}\n",
      "{'_id': 420, 'name': 'Seventh Son Of A Seventh Son'}\n"
     ]
    }
   ],
   "source": [
    "artist_id = 8\n",
    "\n",
    "cur.execute(\"\"\"\n",
    "    SELECT _id, name \n",
    "    FROM albums\n",
    "    WHERE artist = ?\n",
    "\"\"\", (artist_id,))\n",
    "\n",
    "albums_iron_maiden = cur.fetchall()\n",
    "\n",
    "print(\"Álbumes de Iron Maiden:\")\n",
    "for album in albums_iron_maiden:\n",
    "    print(dict(album))"
   ]
  },
  {
   "cell_type": "markdown",
   "id": "b58acaad-42c5-47be-99d3-b9f31efc574c",
   "metadata": {},
   "source": [
    "4. Muestras las canciones del album \"The Number of the Beast\". Presenta tus resultados en orden alfabético."
   ]
  },
  {
   "cell_type": "code",
   "execution_count": 4,
   "id": "c0f8cab4-70dd-4b02-bda5-29f6625f6675",
   "metadata": {},
   "outputs": [
    {
     "name": "stdout",
     "output_type": "stream",
     "text": [
      "Canciones del álbum 'The Number of the Beast':\n",
      "22 Acacia Avenue (1998 Digital Remaster)\n",
      "Children Of The Damned (1998 Digital Remaster)\n",
      "Gangland (1998 Digital Remaster)\n",
      "Hallowed Be Thy Name (1998 Digital Remaster)\n",
      "Invaders (1998 Digital Remaster)\n",
      "Run To The Hills (1998 Digital Remaster)\n",
      "The Number Of The Beast (1998 Digital Remaster)\n",
      "The Prisoner (1998 Digital Remaster)\n",
      "Total Eclipse (1998 Digital Remaster)\n"
     ]
    }
   ],
   "source": [
    "album_name = \"The Number of the Beast\"\n",
    "\n",
    "cur.execute(\"\"\"\n",
    "    SELECT s.title\n",
    "    FROM songs s\n",
    "    JOIN albums a ON s.album = a._id\n",
    "    WHERE a.name = ?\n",
    "    ORDER BY s.title ASC\n",
    "\"\"\", (album_name,))\n",
    "\n",
    "canciones = cur.fetchall()\n",
    "\n",
    "print(f\"Canciones del álbum '{album_name}':\")\n",
    "for cancion in canciones:\n",
    "    print(cancion['title'])"
   ]
  },
  {
   "cell_type": "markdown",
   "id": "1beb281b-894c-420a-880e-e255f5be1a5a",
   "metadata": {
    "tags": []
   },
   "source": [
    "## 2. Agregaciones y Agrupamientos de Datos."
   ]
  },
  {
   "cell_type": "markdown",
   "id": "ccf2faff-55aa-49df-a6bb-a5e8c0f3049b",
   "metadata": {},
   "source": [
    "1. ¿Cuantas canciones, albumes y artistas se tienen registrados en la base de datos?"
   ]
  },
  {
   "cell_type": "code",
   "execution_count": 5,
   "id": "081f1b12-3438-443a-8267-ee05995f5464",
   "metadata": {},
   "outputs": [
    {
     "name": "stdout",
     "output_type": "stream",
     "text": [
      "Total de registros en songs: 5350\n",
      "Total de registros en albums: 439\n",
      "Total de registros en artists: 201\n"
     ]
    }
   ],
   "source": [
    "tablas = [\"songs\", \"albums\", \"artists\"]\n",
    "\n",
    "for tabla in tablas:\n",
    "    cur.execute(f\"SELECT COUNT(*) AS total FROM {tabla}\")\n",
    "    total = cur.fetchone()[\"total\"]\n",
    "    print(f\"Total de registros en {tabla}: {total}\")"
   ]
  },
  {
   "cell_type": "markdown",
   "id": "51b5ed2c-6463-41b9-852c-e5df78e620cb",
   "metadata": {},
   "source": [
    "2. Agrupa la tabla albums por artista para identificar qué cuales son los 5 artistas que tienen más albumes."
   ]
  },
  {
   "cell_type": "code",
   "execution_count": 6,
   "id": "b91d7345-d5f8-48a1-9cd6-3e973cb3b286",
   "metadata": {},
   "outputs": [],
   "source": [
    "cur.execute(\"\"\"\n",
    "    SELECT ar.name AS artist_name, COUNT(al._id) AS album_count\n",
    "    FROM albums al\n",
    "    JOIN artists ar ON al.artist = ar._id\n",
    "    GROUP BY ar._id\n",
    "    ORDER BY album_count DESC\n",
    "    LIMIT 5\n",
    "\"\"\")\n",
    "\n",
    "top_artistas = cur.fetchall()"
   ]
  },
  {
   "cell_type": "markdown",
   "id": "5d22afd2-5827-49eb-b733-0d8454a6c3d3",
   "metadata": {},
   "source": [
    "3. Presenta el nombre de los artistas identificados en el punto anterior."
   ]
  },
  {
   "cell_type": "code",
   "execution_count": 7,
   "id": "7d1be615-d89f-4804-af5c-022d186298a6",
   "metadata": {},
   "outputs": [
    {
     "name": "stdout",
     "output_type": "stream",
     "text": [
      "Artistas con más álbumes:\n",
      "Black Sabbath\n",
      "Axel Rudi Pell\n",
      "Led Zeppelin\n",
      "Deep Purple\n",
      "Aerosmith\n"
     ]
    }
   ],
   "source": [
    "nombres_artistas = [artista['artist_name'] for artista in top_artistas]\n",
    "\n",
    "print(\"Artistas con más álbumes:\")\n",
    "for nombre in nombres_artistas:\n",
    "    print(nombre)"
   ]
  },
  {
   "cell_type": "markdown",
   "id": "fc2523ba-0a74-44bc-b23f-1ac3652090f2",
   "metadata": {},
   "source": [
    "4. ¿Cuál es el album con más canciones? Investiga sobre este album en la red."
   ]
  },
  {
   "cell_type": "code",
   "execution_count": 8,
   "id": "41ec3f73-4ec6-4fdb-a84c-157e0d6ce6d4",
   "metadata": {},
   "outputs": [
    {
     "name": "stdout",
     "output_type": "stream",
     "text": [
      "Álbum con más canciones: Cornology (72 canciones)\n"
     ]
    }
   ],
   "source": [
    "cur.execute(\"\"\"\n",
    "    SELECT al.name AS album_name, COUNT(s._id) AS song_count\n",
    "    FROM songs s\n",
    "    JOIN albums al ON s.album = al._id\n",
    "    GROUP BY al._id\n",
    "    ORDER BY song_count DESC\n",
    "    LIMIT 1\n",
    "\"\"\")\n",
    "\n",
    "album_mas_canciones = cur.fetchone()\n",
    "\n",
    "print(f\"Álbum con más canciones: {album_mas_canciones['album_name']} ({album_mas_canciones['song_count']} canciones)\")"
   ]
  },
  {
   "cell_type": "markdown",
   "id": "fc41765e",
   "metadata": {},
   "source": [
    "Cornology salió en 1992, es una compilación de todas las canciones de la banda The Bonzo Dog Band, dividiendose entre \"The Intro\", \"The Outro\" y \"Dog Ends\"."
   ]
  },
  {
   "cell_type": "markdown",
   "id": "a1bae3b2-4329-464e-ace2-e86c082e7f72",
   "metadata": {},
   "source": [
    "## 3. Combinación de Tablas."
   ]
  },
  {
   "cell_type": "markdown",
   "id": "7fa30899-4f05-4070-ba10-bd0fcf9cb09b",
   "metadata": {},
   "source": [
    "1. Muestra todas el nombre canciones del album \"Seventh Son Of A Seventh Son\" que tiene por '_id = 420'. Presenta la lista en el *track order* (`track`)."
   ]
  },
  {
   "cell_type": "code",
   "execution_count": 9,
   "id": "b5a126b1-6878-4eda-8317-59d8a5268f55",
   "metadata": {},
   "outputs": [
    {
     "name": "stdout",
     "output_type": "stream",
     "text": [
      "Canciones del álbum Seventh Son Of A Seventh Son:\n",
      "Track 1: Moonchild (1998 Digital Remaster)\n",
      "Track 2: Infinite Dreams (1998 Digital Remaster)\n",
      "Track 3: Can I Play With Madness (1998 Digital Remaster)\n",
      "Track 4: The Evil That Men Do (1998 Digital Remaster)\n",
      "Track 5: Seventh Son Of A Seventh Son (1998 Digital Remaster)\n",
      "Track 6: The Prophecy (1998 Digital Remaster)\n",
      "Track 7: The Clairvoyant (1998 Digital Remaster)\n",
      "Track 8: Only The Good Die Young (1998 Digital Remaster)\n"
     ]
    }
   ],
   "source": [
    "album_id = 420\n",
    "\n",
    "cur.execute(\"\"\"\n",
    "    SELECT title, track\n",
    "    FROM songs\n",
    "    WHERE album = ?\n",
    "    ORDER BY track ASC\n",
    "\"\"\", (album_id,))\n",
    "\n",
    "canciones = cur.fetchall()\n",
    "\n",
    "print(f\"Canciones del álbum Seventh Son Of A Seventh Son:\")\n",
    "for cancion in canciones:\n",
    "    print(f\"Track {cancion['track']}: {cancion['title']}\")"
   ]
  },
  {
   "cell_type": "markdown",
   "id": "533e3871-97ac-4e5e-a40e-1b374edb27bc",
   "metadata": {},
   "source": [
    "2. Obtén todas las canciones de Aeroesmith en orden alfabético. Solo incluye el título en la salida ¿Cuántas son?"
   ]
  },
  {
   "cell_type": "code",
   "execution_count": 10,
   "id": "c6012e01-c6c3-40df-bfc1-82c0c166c95c",
   "metadata": {},
   "outputs": [
    {
     "name": "stdout",
     "output_type": "stream",
     "text": [
      "(Dulcimer Stomp) The Other Side\n",
      "(Going Down) Love In An Elevator\n",
      "(Hoodoo) Voodoo Medicine Man\n",
      "(Water Song) Janie's Got A Gun\n",
      "Adam's Apple\n",
      "Adam's Apple\n",
      "Ain't That A Bitch\n",
      "Amazing\n",
      "Amazing\n",
      "Angel\n",
      "Angel\n",
      "Attitude Adjustment\n",
      "Avant Garden\n",
      "Back In The Saddle\n",
      "Beyond Beautiful\n",
      "Big Ten Inch Record\n",
      "Blind Man\n",
      "Bone To Bone (Coney Island White Fish Boy)\n",
      "Boogie Man\n",
      "Can't Stop Messin'\n",
      "Cheese Cake\n",
      "Chip Away The Stone\n",
      "Chip Away The Stone\n",
      "Chiquita\n",
      "Come Together\n",
      "Crash\n",
      "Crazy\n",
      "Crazy\n",
      "Critical Mass\n",
      "Cryin'\n",
      "Cryin'\n",
      "Darkness\n",
      "Deuces Are Wild\n",
      "Don't Get Mad Get Even\n",
      "Dream On\n",
      "Dream On\n",
      "Drop Dead Gorgeous\n",
      "Dude (Looks Like A Lady)\n",
      "Dude (Looks Like A Lady)\n",
      "Dude (Looks Like A Lady)- live\n",
      "Eat The Rich\n",
      "Eat The Rich\n",
      "F.I.N.E.\n",
      "Face\n",
      "Fallen Angels\n",
      "Falling In Love (Is Hard On The Knees)\n",
      "Falling Off\n",
      "Fever\n",
      "Flesh\n",
      "Fly Away From Here\n",
      "Full Circle\n",
      "Get A Grip\n",
      "Girl Keeps Coming Apart\n",
      "Gotta Love It\n",
      "Gypsy Boots\n",
      "Hangman Jury\n",
      "Heart's Done Time\n",
      "Hole In My Soul\n",
      "I Ain't Got You\n",
      "I'm Down\n",
      "Intro\n",
      "Jaded\n",
      "Jailbait\n",
      "Janie's Got A Gun\n",
      "Just Push Play\n",
      "Kiss Your Past Good-Bye\n",
      "Last Child\n",
      "Let The Music do the Talking\n",
      "Lick and a Promise\n",
      "Light Inside\n",
      "Line Up\n",
      "Livin' On The Edge\n",
      "Livin' On The Edge\n",
      "Lord Of The Thighs\n",
      "Lord Of The Thighs\n",
      "Lord Of The Thighs\n",
      "Love In An Elevator\n",
      "Luv Lies\n",
      "Magic Touch\n",
      "Make It\n",
      "Mama Kin\n",
      "Mama Kin\n",
      "Mama Kin\n",
      "Mia\n",
      "Monkey On My Back\n",
      "Mother Popcorn Draw The Line\n",
      "Movin' Out\n",
      "My Fist Your Face\n",
      "My Girl\n",
      "Nine Lives\n",
      "No More No More\n",
      "No Surprize\n",
      "No Surprize\n",
      "Nobody's Fault\n",
      "One Way Street\n",
      "Outta Your Head\n",
      "Pandora's Box\n",
      "Permanent Vacation\n",
      "Pink\n",
      "Rag Doll\n",
      "Rag Doll\n",
      "Rats in the Cellar\n",
      "Reefer Head Woman\n",
      "Remember (Walking In The Sand)\n",
      "Round And Round\n",
      "Round And Round\n",
      "S.O.S.\n",
      "S.O.S. (Too Bad)\n",
      "Same Old Song And Dance\n",
      "Seasons Of Wither\n",
      "Shame On You\n",
      "She's On Fire\n",
      "Shela\n",
      "Shut Up And Dance\n",
      "Sick As A Dog\n",
      "Sight For Sore Eyes\n",
      "Simoriah\n",
      "Somebody\n",
      "Something's Gotta Give\n",
      "Spaced\n",
      "St. John\n",
      "Sunshine\n",
      "Sweet Emotion\n",
      "Sweet Emotion\n",
      "Taste Of India\n",
      "The Farm\n",
      "The Movie\n",
      "The Other Side\n",
      "The Reason A dog\n",
      "The hop\n",
      "Think About It\n",
      "Three Mile Smile\n",
      "Toys In The Attic\n",
      "Toys In The Attic\n",
      "Train Kept A Rollin'\n",
      "Train Kept A Rollin'\n",
      "Train Kept A Rollin'\n",
      "Trip Hoppin'\n",
      "Uncle Salty\n",
      "Under My Skin\n",
      "Walk On Down\n",
      "Walk On Water\n",
      "Walk This Way\n",
      "Walk This Way\n",
      "Walkin' The Dog\n",
      "What It Takes\n",
      "What It Takes\n",
      "Woman Of The World\n",
      "Write Me\n",
      "You See Me Crying\n",
      "Young Lust\n"
     ]
    }
   ],
   "source": [
    "artist_name = \"Aerosmith\"\n",
    "\n",
    "cur.execute(\"\"\"\n",
    "    SELECT s.title\n",
    "    FROM songs s\n",
    "    JOIN albums a ON s.album = a._id\n",
    "    JOIN artists ar ON a.artist = ar._id\n",
    "    WHERE ar.name = ?\n",
    "    ORDER BY s.title ASC\n",
    "\"\"\", (artist_name,))\n",
    "\n",
    "canciones_aerosmith = cur.fetchall()\n",
    "\n",
    "for cancion in canciones_aerosmith:\n",
    "    print(cancion['title'])"
   ]
  },
  {
   "cell_type": "code",
   "execution_count": 11,
   "id": "855e4d08-91fd-4976-8bfb-e28d13ff644d",
   "metadata": {},
   "outputs": [
    {
     "name": "stdout",
     "output_type": "stream",
     "text": [
      "\n",
      "Total de canciones: 151\n"
     ]
    }
   ],
   "source": [
    "print(f\"\\nTotal de canciones: {len(canciones_aerosmith)}\")"
   ]
  },
  {
   "cell_type": "markdown",
   "id": "7102ad70-d568-4c9a-bf8b-e8ab701446c6",
   "metadata": {},
   "source": [
    "## Referencias\n",
    "* Actividad basada en SQLite-Exercises: https://github.com/IancuIulian/SQLite-Exercises"
   ]
  }
 ],
 "metadata": {
  "kernelspec": {
   "display_name": "fundamentos-ingenieria-datos",
   "language": "python",
   "name": "python3"
  },
  "language_info": {
   "codemirror_mode": {
    "name": "ipython",
    "version": 3
   },
   "file_extension": ".py",
   "mimetype": "text/x-python",
   "name": "python",
   "nbconvert_exporter": "python",
   "pygments_lexer": "ipython3",
   "version": "3.13.7"
  }
 },
 "nbformat": 4,
 "nbformat_minor": 5
}
