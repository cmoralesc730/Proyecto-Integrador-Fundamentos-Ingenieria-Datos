{
 "cells": [
  {
   "cell_type": "markdown",
   "id": "8PtrxKJwVQLS",
   "metadata": {
    "id": "8PtrxKJwVQLS"
   },
   "source": [
    "# Uso, interpretación y gestión de datos abiertos"
   ]
  },
  {
   "cell_type": "markdown",
   "id": "de1519ce",
   "metadata": {
    "id": "de1519ce"
   },
   "source": [
    "\n",
    "\n",
    "El internet es la red informática más grande que existe. Nos permite interconectarnos a través de dispositivos como teléfonos, computadoras, tablets, entre otros. Estos elementos se conocen como *host* o *endpoints*. Estos usualmente se clasifican entre clientes y servidores.\n",
    "\n",
    "![Figure 1](https://upload.wikimedia.org/wikipedia/commons/thumb/c/c9/Client-server-model.svg/1200px-Client-server-model.svg.png)\n",
    "\n",
    "Los archivos relacionados con una página web están almacenados en un servidor y nuestras computadoras son los clientes que acceden a este recurso a través del internet. Estos se conectan a internet a través de los Proveedores de Servicio (Internet Service Providers).\n",
    "\n",
    "El intercambio de datos en internet se da a cabo con dispositivos intermediarios denominados conmutadores de paquetes o packet switches. Los routers son uno de los conmutadores de paquetes más conocidos.\n",
    "\n",
    "Describamos brevemente el proceso de intercambio de información de dos dispositivos conectados a internet. Consideremos que deseamos acceder a la página web del Tecnológico de Monterrey ubicada en`https://tec.mx/es`. Mi computadora deberá enviar una petición al servidor donde está alojada la página para acceder a tal información. Ambos dispositivos se identifican en la red de internet a través de identificadores especiales, direcciones IP (Internet Protocol por sus siglas en inglés). Los cuales están formados generalmente por una secuencia de 4 bytes.\n",
    "\n",
    "![Figure 2](https://www.ipxo.com/app/uploads/2021/09/IPv4-anatomy.png)\n",
    "\n",
    "Pero, yo no sé la dirección IP del servidor que tiene alojada la página web. El Domain Name System (DNS) es un sistema que nos permite asociar a cada hostname su respectiva dirección IP.\n",
    "\n",
    "Entonces, mi computadora integrará un mensaje que incluya su dirección física (MAC address), la dirección IP de destino y la petición. Este paquete llegará a través de la red local (Local Area Network) hasta el router. El router incluirá su dirección IP correspondiente, y enviará la petición a través del internet. El paquete recorrerá diferentes routers intermedios, los cuales redirigirán el mensaje hasta llegar al servidor. Finalmente, el mensaje llegará al servidor donde está almacenada la página web.\n",
    "\n",
    "![Figure 3](https://miro.medium.com/max/1400/1*Lm3WWTj1A0n1vMPN4LXx7g.png)\n",
    "\n",
    "El servidor entonces ubicará los archivos correspondientes (HTML, CSS, JS, Imágenes). La información total será dividida en pequeños paquetes (packets). El servidor enviará los paquetes de regreso a través de su router local, y navegará por el Internet hasta mi computadora. La secuencia de enlaces de comunicación y conmutadores de paquetes atravesados durante el envío formarán una ruta. Los paquetes no están obligados a seguir la misma ruta, sin embargo, todos deben llegar al destino final, en donde serán integrados para recuperar la información original y entonces mi navegador integrará los archivos correspondientes.\n",
    "\n",
    "El intercambio de datos debe llevarse de forma que todos seamos capaces de comunicarnos de forma satisfactoria, incluso debe permitir diseñar sistemas que puedan comunicarse entre sí de forma automática. Esto se logra adoptando protocolos y estándares. En las siguientes unidades revisaremos los protocolos TCP/IP y el HTTP.\n"
   ]
  },
  {
   "cell_type": "markdown",
   "id": "577a9ae0",
   "metadata": {
    "id": "577a9ae0"
   },
   "source": [
    "\n",
    "### 1 Accediendo a Páginas Web con [`request`](https://pypi.org/project/requests/)\n",
    "\n",
    "El módulo externo `requests` permite realizar peticiones HTTP de una manera elegante y simple.\n",
    "\n",
    "Observemos el procedimiento para acceder al artículo de Python en Wikipedia [[1](https://en.wikipedia.org/wiki/Python_(programming_language))]."
   ]
  },
  {
   "cell_type": "code",
   "execution_count": 2,
   "id": "dec6eac3",
   "metadata": {
    "executionInfo": {
     "elapsed": 4,
     "status": "ok",
     "timestamp": 1694557205978,
     "user": {
      "displayName": "Didier Gamboa",
      "userId": "10298588528589042889"
     },
     "user_tz": 360
    },
    "id": "dec6eac3"
   },
   "outputs": [],
   "source": [
    "import requests"
   ]
  },
  {
   "cell_type": "code",
   "execution_count": 10,
   "id": "c0b0a0fb",
   "metadata": {
    "executionInfo": {
     "elapsed": 4,
     "status": "ok",
     "timestamp": 1694557205979,
     "user": {
      "displayName": "Didier Gamboa",
      "userId": "10298588528589042889"
     },
     "user_tz": 360
    },
    "id": "c0b0a0fb"
   },
   "outputs": [],
   "source": [
    "# Accedemos a una pagina de Wikipedia que nos muestra info de python\n",
    "url = 'https://es.wikipedia.org/wiki/Python'"
   ]
  },
  {
   "cell_type": "code",
   "execution_count": 11,
   "id": "ST9EVio96hhZ",
   "metadata": {
    "executionInfo": {
     "elapsed": 267,
     "status": "ok",
     "timestamp": 1694557206242,
     "user": {
      "displayName": "Didier Gamboa",
      "userId": "10298588528589042889"
     },
     "user_tz": 360
    },
    "id": "ST9EVio96hhZ"
   },
   "outputs": [],
   "source": [
    "#Peticion a esta pagina para que me de el html que almacenamos aqui\n",
    "response = requests.get(url)"
   ]
  },
  {
   "cell_type": "code",
   "execution_count": 12,
   "id": "cxJ3YCQsZpVW",
   "metadata": {
    "colab": {
     "base_uri": "https://localhost:8080/"
    },
    "executionInfo": {
     "elapsed": 5,
     "status": "ok",
     "timestamp": 1694557206242,
     "user": {
      "displayName": "Didier Gamboa",
      "userId": "10298588528589042889"
     },
     "user_tz": 360
    },
    "id": "cxJ3YCQsZpVW",
    "outputId": "1506bf8c-8a8e-48c4-9833-915393f8805d"
   },
   "outputs": [
    {
     "data": {
      "text/plain": [
       "403"
      ]
     },
     "execution_count": 12,
     "metadata": {},
     "output_type": "execute_result"
    }
   ],
   "source": [
    "# Status\n",
    "response.status_code"
   ]
  },
  {
   "cell_type": "code",
   "execution_count": 13,
   "id": "zEWwT7-XZpah",
   "metadata": {
    "colab": {
     "base_uri": "https://localhost:8080/",
     "height": 56
    },
    "executionInfo": {
     "elapsed": 4,
     "status": "ok",
     "timestamp": 1694557206242,
     "user": {
      "displayName": "Didier Gamboa",
      "userId": "10298588528589042889"
     },
     "user_tz": 360
    },
    "id": "zEWwT7-XZpah",
    "outputId": "e5609028-76eb-43cf-b506-ca075f0fbe13"
   },
   "outputs": [
    {
     "data": {
      "text/plain": [
       "'ISO-8859-1'"
      ]
     },
     "execution_count": 13,
     "metadata": {},
     "output_type": "execute_result"
    }
   ],
   "source": [
    "# Codificación\n",
    "response.encoding"
   ]
  },
  {
   "cell_type": "code",
   "execution_count": 14,
   "id": "-C_R9HwYZpd6",
   "metadata": {
    "colab": {
     "base_uri": "https://localhost:8080/",
     "height": 197
    },
    "executionInfo": {
     "elapsed": 397,
     "status": "ok",
     "timestamp": 1694557206636,
     "user": {
      "displayName": "Didier Gamboa",
      "userId": "10298588528589042889"
     },
     "user_tz": 360
    },
    "id": "-C_R9HwYZpd6",
    "outputId": "e6f45697-ffd5-4bce-fe5a-877901a44474"
   },
   "outputs": [
    {
     "data": {
      "text/plain": [
       "'Please set a user-agent and respect our robot policy https://w.wiki/4wJS. See also T400119.\\n'"
      ]
     },
     "execution_count": 14,
     "metadata": {},
     "output_type": "execute_result"
    }
   ],
   "source": [
    "# Web Page Source Code\n",
    "data = response.content.decode()\n",
    "data"
   ]
  },
  {
   "cell_type": "code",
   "execution_count": 15,
   "id": "cwqjBZVHLk0t",
   "metadata": {
    "colab": {
     "base_uri": "https://localhost:8080/"
    },
    "executionInfo": {
     "elapsed": 8,
     "status": "ok",
     "timestamp": 1694557206637,
     "user": {
      "displayName": "Didier Gamboa",
      "userId": "10298588528589042889"
     },
     "user_tz": 360
    },
    "id": "cwqjBZVHLk0t",
    "outputId": "95d9b3d4-0b63-4a46-d5a1-b491061c8848"
   },
   "outputs": [
    {
     "data": {
      "text/plain": [
       "str"
      ]
     },
     "execution_count": 15,
     "metadata": {},
     "output_type": "execute_result"
    }
   ],
   "source": [
    "type(data)"
   ]
  },
  {
   "cell_type": "code",
   "execution_count": 16,
   "id": "gTHHPmgzZpmx",
   "metadata": {
    "colab": {
     "base_uri": "https://localhost:8080/",
     "height": 197
    },
    "executionInfo": {
     "elapsed": 415,
     "status": "ok",
     "timestamp": 1694557207049,
     "user": {
      "displayName": "Didier Gamboa",
      "userId": "10298588528589042889"
     },
     "user_tz": 360
    },
    "id": "gTHHPmgzZpmx",
    "outputId": "cfcea07b-a5ab-472f-a00a-a88ea47a8a55"
   },
   "outputs": [
    {
     "data": {
      "text/plain": [
       "'Please set a user-agent and respect our robot policy https://w.wiki/4wJS. See also T400119.\\n'"
      ]
     },
     "execution_count": 16,
     "metadata": {},
     "output_type": "execute_result"
    }
   ],
   "source": [
    "# Web Page Source Code (Alternative)\n",
    "data = response.text\n",
    "data"
   ]
  },
  {
   "cell_type": "markdown",
   "id": "QBiKHGkHaVLb",
   "metadata": {
    "id": "QBiKHGkHaVLb"
   },
   "source": [
    "Ahora, accedamos al texto de Romeo y Julieta recuperado de Proyecto Gutemberg a partir del siguiente [enlace](https://www.gutenberg.org/files/1112/1112.txt)."
   ]
  },
  {
   "cell_type": "code",
   "execution_count": 20,
   "id": "xyLvmYaX70sE",
   "metadata": {
    "executionInfo": {
     "elapsed": 28,
     "status": "ok",
     "timestamp": 1694557207049,
     "user": {
      "displayName": "Didier Gamboa",
      "userId": "10298588528589042889"
     },
     "user_tz": 360
    },
    "id": "xyLvmYaX70sE"
   },
   "outputs": [],
   "source": [
    "# Accedemos a Project Gutemberg (Romeo and Juliet)\n",
    "url = 'https://www.gutenberg.org/cache/epub/1513/pg1513.txt'\n",
    "response = requests.get(url)\n",
    "\n",
    "#Al formato original que se recibe lo cambiamos/transformamos a una cadena de caracteres\n",
    "romeo_and_juliet = response.text"
   ]
  },
  {
   "cell_type": "code",
   "execution_count": 22,
   "id": "tCX60on19YPF",
   "metadata": {
    "colab": {
     "base_uri": "https://localhost:8080/"
    },
    "executionInfo": {
     "elapsed": 26,
     "status": "ok",
     "timestamp": 1694557207049,
     "user": {
      "displayName": "Didier Gamboa",
      "userId": "10298588528589042889"
     },
     "user_tz": 360
    },
    "id": "tCX60on19YPF",
    "outputId": "bae233a2-ddc2-465e-89a0-d9b5b3584ad7"
   },
   "outputs": [
    {
     "name": "stdout",
     "output_type": "stream",
     "text": [
      "The Project Gutenberg eBook of Romeo and Juliet\n",
      "    \n",
      "This ebook is for the use of anyone anywhere in the United States and\n",
      "most other parts of the world at no cost and with almost no restrictions\n",
      "whatsoever. You may copy it, give it away or re-use it under the terms\n",
      "of the Project Gutenberg License included with this ebook or online\n",
      "at www.gutenberg.org. If you are not located in the United States,\n",
      "you will have to check the laws of the country where you are located\n",
      "before using this eBook.\n",
      "\n",
      "Title: Romeo and Juliet\n",
      "\n",
      "Author: William Shakespeare\n",
      "\n",
      "Release date: November 1, 1998 [eBook #1513]\n",
      "                Most recently updated: August 21, 2025\n",
      "\n",
      "Language: English\n",
      "\n",
      "Credits: the PG Shakespeare Team, a team of about twenty Project Gutenberg volunteers\n",
      "\n",
      "\n",
      "*** START OF THE PROJECT GUTENBERG EBOOK ROMEO AND JULIET ***\n",
      "\n",
      "\n",
      "\n",
      "\n",
      "THE TRAGEDY OF ROMEO AND JULIET\n",
      "\n",
      "by William Shakespeare\n",
      "\n",
      "\n",
      "\n",
      "\n",
      "Contents\n",
      "\n",
      "THE PROLOGUE.\n",
      "\n",
      "ACT I\n",
      "Scene I. A public place.\n",
      "Scene II. A Street.\n",
      "Scene III. Room in Capulet’s House.\n",
      "Scene IV. A Street.\n",
      "Scene V. A Hall in Capulet’s House.\n",
      "\n",
      "ACT II\n",
      "CHORUS.\n",
      "Scene I. An open place adjoining Capulet’s Garden.\n",
      "Scene II. Capulet’s Garden.\n",
      "Scene III. Friar Lawrence’s Cell.\n",
      "Scene IV. A Street.\n",
      "Scene V. Capulet’s Garden.\n",
      "Scene VI. Friar Lawrence’s Cell.\n",
      "\n",
      "ACT III\n",
      "Scene I. A public Place.\n",
      "Scene II. A Room in Capulet’s House.\n",
      "Scene III. Friar Lawrence’s cell.\n",
      "Scene IV. A Room in Capulet’s House.\n",
      "Scene V. An open Gallery to Juliet’s\n"
     ]
    }
   ],
   "source": [
    "print(romeo_and_juliet[:1500])"
   ]
  },
  {
   "cell_type": "code",
   "execution_count": 23,
   "id": "wXRoTGrx3mGc",
   "metadata": {
    "colab": {
     "base_uri": "https://localhost:8080/"
    },
    "executionInfo": {
     "elapsed": 21,
     "status": "ok",
     "timestamp": 1694557207049,
     "user": {
      "displayName": "Didier Gamboa",
      "userId": "10298588528589042889"
     },
     "user_tz": 360
    },
    "id": "wXRoTGrx3mGc",
    "outputId": "d5af205e-a910-41aa-cc67-82a80089b3c4"
   },
   "outputs": [
    {
     "data": {
      "text/plain": [
       "['I.',\n",
       " 'A',\n",
       " 'public',\n",
       " 'Place.',\n",
       " 'Scene',\n",
       " 'II.',\n",
       " 'A',\n",
       " 'Room',\n",
       " 'in',\n",
       " 'Capulet’s',\n",
       " 'House.',\n",
       " 'Scene',\n",
       " 'III.',\n",
       " 'Friar',\n",
       " 'Lawrence’s',\n",
       " 'cell.',\n",
       " 'Scene',\n",
       " 'IV.',\n",
       " 'A',\n",
       " 'Room',\n",
       " 'in',\n",
       " 'Capulet’s',\n",
       " 'House.',\n",
       " 'Scene',\n",
       " 'V.',\n",
       " 'An',\n",
       " 'open',\n",
       " 'Gallery',\n",
       " 'to',\n",
       " 'Juliet’s']"
      ]
     },
     "execution_count": 23,
     "metadata": {},
     "output_type": "execute_result"
    }
   ],
   "source": [
    "romeo_and_juliet[:1500].split()[-30:]"
   ]
  },
  {
   "cell_type": "code",
   "execution_count": 24,
   "id": "zFphkN8SMKKm",
   "metadata": {
    "colab": {
     "base_uri": "https://localhost:8080/"
    },
    "executionInfo": {
     "elapsed": 17,
     "status": "ok",
     "timestamp": 1694557207049,
     "user": {
      "displayName": "Didier Gamboa",
      "userId": "10298588528589042889"
     },
     "user_tz": 360
    },
    "id": "zFphkN8SMKKm",
    "outputId": "316fda0b-1490-4a91-937b-63470472400f"
   },
   "outputs": [
    {
     "data": {
      "text/plain": [
       "29000"
      ]
     },
     "execution_count": 24,
     "metadata": {},
     "output_type": "execute_result"
    }
   ],
   "source": [
    "len(romeo_and_juliet.split())"
   ]
  },
  {
   "cell_type": "markdown",
   "id": "2f7362a5",
   "metadata": {
    "id": "2f7362a5"
   },
   "source": [
    "### 2 JSON\n",
    "\n",
    "JavaScript Object Notation (JSON) es un formato utilizado para el intercambio de datos a través de la web. Este formato es independiente del lenguaje y utiliza convenciones que son familiares con múltiples lenguajes de programación. Entre ellos, Python.\n",
    "\n",
    "Los JSON están compuestos de cuatro tipos de datos primitivos: cadenas de caracteres, números, booleanos (true y false) y el valor nulo (null); y dos tipos de estructuras: objetos y arreglos.\n",
    "\n",
    "Python nos provee del módulo estándar [json](https://docs.python.org/3/library/json.html) que permite la manipulación y escritura de este tipo de archivos. Python toma el texto plano y los transforma en las estructuras correspondiente tomando en cuenta una [tabla](https://docs.python.org/3/library/json.html#json-to-py-table) de conversión."
   ]
  },
  {
   "cell_type": "code",
   "execution_count": 26,
   "id": "2f6dcb5b",
   "metadata": {
    "executionInfo": {
     "elapsed": 14,
     "status": "ok",
     "timestamp": 1694557207049,
     "user": {
      "displayName": "Didier Gamboa",
      "userId": "10298588528589042889"
     },
     "user_tz": 360
    },
    "id": "2f6dcb5b"
   },
   "outputs": [],
   "source": [
    "import json"
   ]
  },
  {
   "cell_type": "code",
   "execution_count": 27,
   "id": "9749cb34",
   "metadata": {
    "executionInfo": {
     "elapsed": 14,
     "status": "ok",
     "timestamp": 1694557207050,
     "user": {
      "displayName": "Didier Gamboa",
      "userId": "10298588528589042889"
     },
     "user_tz": 360
    },
    "id": "9749cb34"
   },
   "outputs": [],
   "source": [
    "JSON1 = '''\n",
    "{\"Image\": {\n",
    "            \"Width\":  800,\n",
    "            \"Height\": 600,\n",
    "            \"Title\":  \"View from 15th Floor\",\n",
    "            \"Thumbnail\": {\n",
    "                \"Url\": \"http://www.example.com/image/481989943\",\n",
    "                \"Height\": 125,\n",
    "                \"Width\": 100\n",
    "                },\n",
    "            \"Animated\" : false,\n",
    "            \"IDs\": [116, 943, 234, 38793]\n",
    "            }\n",
    "}\n",
    "'''"
   ]
  },
  {
   "cell_type": "code",
   "execution_count": 28,
   "id": "08835648",
   "metadata": {
    "executionInfo": {
     "elapsed": 14,
     "status": "ok",
     "timestamp": 1694557207050,
     "user": {
      "displayName": "Didier Gamboa",
      "userId": "10298588528589042889"
     },
     "user_tz": 360
    },
    "id": "08835648"
   },
   "outputs": [],
   "source": [
    "JSON2 = '''\n",
    "[\n",
    "      {\n",
    "       \"precision\": \"zip\",\n",
    "       \"Latitude\":  37.7668,\n",
    "       \"Longitude\": -122.3959,\n",
    "       \"Address\":   \"\",\n",
    "       \"City\":  \"SAN FRANCISCO\",\n",
    "       \"State\": \"CA\",\n",
    "       \"Zip\":   \"94107\",\n",
    "       \"Country\":   \"US\"\n",
    "      },\n",
    "      {\n",
    "       \"precision\": \"zip\",\n",
    "       \"Latitude\":  37.371991,\n",
    "       \"Longitude\": -122.026020,\n",
    "       \"Address\":   \"\",\n",
    "       \"City\":  \"SUNNYVALE\",\n",
    "       \"State\": \"CA\",\n",
    "       \"Zip\":   \"94085\",\n",
    "       \"Country\":   \"US\"\n",
    "       }\n",
    "]\n",
    "'''\n",
    "\n"
   ]
  },
  {
   "cell_type": "code",
   "execution_count": 29,
   "id": "1231177c",
   "metadata": {
    "executionInfo": {
     "elapsed": 13,
     "status": "ok",
     "timestamp": 1694557207050,
     "user": {
      "displayName": "Didier Gamboa",
      "userId": "10298588528589042889"
     },
     "user_tz": 360
    },
    "id": "1231177c"
   },
   "outputs": [],
   "source": [
    "# Transformación de JSON a Objetos de Python\n",
    "data_json1 = json.loads(JSON1)\n",
    "data_json2 = json.loads(JSON2)"
   ]
  },
  {
   "cell_type": "code",
   "execution_count": 30,
   "id": "3fbba9d5",
   "metadata": {
    "colab": {
     "base_uri": "https://localhost:8080/"
    },
    "executionInfo": {
     "elapsed": 13,
     "status": "ok",
     "timestamp": 1694557207050,
     "user": {
      "displayName": "Didier Gamboa",
      "userId": "10298588528589042889"
     },
     "user_tz": 360
    },
    "id": "3fbba9d5",
    "outputId": "49fb0d40-13be-4fed-e372-d16b412e4377"
   },
   "outputs": [
    {
     "data": {
      "text/plain": [
       "dict"
      ]
     },
     "execution_count": 30,
     "metadata": {},
     "output_type": "execute_result"
    }
   ],
   "source": [
    "# Resultado de transformar JSON1\n",
    "type(data_json1)"
   ]
  },
  {
   "cell_type": "code",
   "execution_count": 31,
   "id": "SUx--zknAyc0",
   "metadata": {
    "colab": {
     "base_uri": "https://localhost:8080/"
    },
    "executionInfo": {
     "elapsed": 10,
     "status": "ok",
     "timestamp": 1694557207050,
     "user": {
      "displayName": "Didier Gamboa",
      "userId": "10298588528589042889"
     },
     "user_tz": 360
    },
    "id": "SUx--zknAyc0",
    "outputId": "d2976067-90d2-46c8-bd54-66132595b17c"
   },
   "outputs": [
    {
     "data": {
      "text/plain": [
       "list"
      ]
     },
     "execution_count": 31,
     "metadata": {},
     "output_type": "execute_result"
    }
   ],
   "source": [
    "# Resultado de transformar JSON2\n",
    "type(data_json2)"
   ]
  },
  {
   "cell_type": "code",
   "execution_count": 32,
   "id": "Z9SH55KsBOUd",
   "metadata": {
    "colab": {
     "base_uri": "https://localhost:8080/"
    },
    "executionInfo": {
     "elapsed": 8,
     "status": "ok",
     "timestamp": 1694557207050,
     "user": {
      "displayName": "Didier Gamboa",
      "userId": "10298588528589042889"
     },
     "user_tz": 360
    },
    "id": "Z9SH55KsBOUd",
    "outputId": "d8ccfe27-d6ab-462c-b132-5887c46bc718"
   },
   "outputs": [
    {
     "data": {
      "text/plain": [
       "{'Image': {'Width': 800,\n",
       "  'Height': 600,\n",
       "  'Title': 'View from 15th Floor',\n",
       "  'Thumbnail': {'Url': 'http://www.example.com/image/481989943',\n",
       "   'Height': 125,\n",
       "   'Width': 100},\n",
       "  'Animated': False,\n",
       "  'IDs': [116, 943, 234, 38793]}}"
      ]
     },
     "execution_count": 32,
     "metadata": {},
     "output_type": "execute_result"
    }
   ],
   "source": [
    "# Observemos `data_json1`\n",
    "data_json1"
   ]
  },
  {
   "cell_type": "code",
   "execution_count": 33,
   "id": "HoWw4ECMULzD",
   "metadata": {
    "colab": {
     "base_uri": "https://localhost:8080/"
    },
    "executionInfo": {
     "elapsed": 337,
     "status": "ok",
     "timestamp": 1694557207381,
     "user": {
      "displayName": "Didier Gamboa",
      "userId": "10298588528589042889"
     },
     "user_tz": 360
    },
    "id": "HoWw4ECMULzD",
    "outputId": "bc01edde-4fca-473f-9f0a-94a8bdd15cea"
   },
   "outputs": [
    {
     "data": {
      "text/plain": [
       "dict_keys(['Image'])"
      ]
     },
     "execution_count": 33,
     "metadata": {},
     "output_type": "execute_result"
    }
   ],
   "source": [
    "# Acceso a las `keys` de JSON\n",
    "data_json1.keys()"
   ]
  },
  {
   "cell_type": "code",
   "execution_count": 34,
   "id": "Bc6tLXZ953QM",
   "metadata": {
    "colab": {
     "base_uri": "https://localhost:8080/",
     "height": 56
    },
    "executionInfo": {
     "elapsed": 19,
     "status": "ok",
     "timestamp": 1694557207381,
     "user": {
      "displayName": "Didier Gamboa",
      "userId": "10298588528589042889"
     },
     "user_tz": 360
    },
    "id": "Bc6tLXZ953QM",
    "outputId": "b5b9ad35-1427-4459-8418-8cbbeffa3f7e"
   },
   "outputs": [
    {
     "data": {
      "text/plain": [
       "'http://www.example.com/image/481989943'"
      ]
     },
     "execution_count": 34,
     "metadata": {},
     "output_type": "execute_result"
    }
   ],
   "source": [
    "data_json1[\"Image\"][\"Thumbnail\"][\"Url\"]"
   ]
  },
  {
   "cell_type": "code",
   "execution_count": 35,
   "id": "fUBL_NPUUa0h",
   "metadata": {
    "colab": {
     "base_uri": "https://localhost:8080/"
    },
    "executionInfo": {
     "elapsed": 18,
     "status": "ok",
     "timestamp": 1694557207381,
     "user": {
      "displayName": "Didier Gamboa",
      "userId": "10298588528589042889"
     },
     "user_tz": 360
    },
    "id": "fUBL_NPUUa0h",
    "outputId": "58e937eb-84c7-423c-97f4-c37d432aeb7c"
   },
   "outputs": [
    {
     "data": {
      "text/plain": [
       "{'Width': 800,\n",
       " 'Height': 600,\n",
       " 'Title': 'View from 15th Floor',\n",
       " 'Thumbnail': {'Url': 'http://www.example.com/image/481989943',\n",
       "  'Height': 125,\n",
       "  'Width': 100},\n",
       " 'Animated': False,\n",
       " 'IDs': [116, 943, 234, 38793]}"
      ]
     },
     "execution_count": 35,
     "metadata": {},
     "output_type": "execute_result"
    }
   ],
   "source": [
    "# Acceso al `key` \"Image\"\n",
    "data_json1[\"Image\"]"
   ]
  },
  {
   "cell_type": "code",
   "execution_count": 36,
   "id": "V3lRnmQy9LLK",
   "metadata": {
    "colab": {
     "base_uri": "https://localhost:8080/"
    },
    "executionInfo": {
     "elapsed": 16,
     "status": "ok",
     "timestamp": 1694557207381,
     "user": {
      "displayName": "Didier Gamboa",
      "userId": "10298588528589042889"
     },
     "user_tz": 360
    },
    "id": "V3lRnmQy9LLK",
    "outputId": "f763d826-7bf2-4fef-93b6-63fe14b31378"
   },
   "outputs": [
    {
     "data": {
      "text/plain": [
       "dict_keys(['Width', 'Height', 'Title', 'Thumbnail', 'Animated', 'IDs'])"
      ]
     },
     "execution_count": 36,
     "metadata": {},
     "output_type": "execute_result"
    }
   ],
   "source": [
    "# Acceso a las `keys` de JSON!\n",
    "data_json1[\"Image\"].keys()"
   ]
  },
  {
   "cell_type": "code",
   "execution_count": 37,
   "id": "RsjSlWH_A-Ab",
   "metadata": {
    "colab": {
     "base_uri": "https://localhost:8080/",
     "height": 56
    },
    "executionInfo": {
     "elapsed": 14,
     "status": "ok",
     "timestamp": 1694557207381,
     "user": {
      "displayName": "Didier Gamboa",
      "userId": "10298588528589042889"
     },
     "user_tz": 360
    },
    "id": "RsjSlWH_A-Ab",
    "outputId": "a80e1f95-425c-48e8-fede-fa2b09cf9b09"
   },
   "outputs": [
    {
     "data": {
      "text/plain": [
       "'http://www.example.com/image/481989943'"
      ]
     },
     "execution_count": 37,
     "metadata": {},
     "output_type": "execute_result"
    }
   ],
   "source": [
    "# Recuperación de un elemento en específico\n",
    "data_json1[\"Image\"][\"Thumbnail\"][\"Url\"]"
   ]
  },
  {
   "cell_type": "code",
   "execution_count": 38,
   "id": "Bjo7nkN5OcQq",
   "metadata": {
    "colab": {
     "base_uri": "https://localhost:8080/"
    },
    "executionInfo": {
     "elapsed": 13,
     "status": "ok",
     "timestamp": 1694557207381,
     "user": {
      "displayName": "Didier Gamboa",
      "userId": "10298588528589042889"
     },
     "user_tz": 360
    },
    "id": "Bjo7nkN5OcQq",
    "outputId": "a4c944c4-97f2-4b0b-b29d-95bbfa2a847a"
   },
   "outputs": [
    {
     "data": {
      "text/plain": [
       "116"
      ]
     },
     "execution_count": 38,
     "metadata": {},
     "output_type": "execute_result"
    }
   ],
   "source": [
    "data_json1[\"Image\"][\"IDs\"][0]"
   ]
  },
  {
   "cell_type": "code",
   "execution_count": 39,
   "id": "LRfmZaSHB9un",
   "metadata": {
    "colab": {
     "base_uri": "https://localhost:8080/"
    },
    "executionInfo": {
     "elapsed": 11,
     "status": "ok",
     "timestamp": 1694557207381,
     "user": {
      "displayName": "Didier Gamboa",
      "userId": "10298588528589042889"
     },
     "user_tz": 360
    },
    "id": "LRfmZaSHB9un",
    "outputId": "69490ee1-b449-4660-abed-5cca6316fd6e"
   },
   "outputs": [
    {
     "data": {
      "text/plain": [
       "[{'precision': 'zip',\n",
       "  'Latitude': 37.7668,\n",
       "  'Longitude': -122.3959,\n",
       "  'Address': '',\n",
       "  'City': 'SAN FRANCISCO',\n",
       "  'State': 'CA',\n",
       "  'Zip': '94107',\n",
       "  'Country': 'US'},\n",
       " {'precision': 'zip',\n",
       "  'Latitude': 37.371991,\n",
       "  'Longitude': -122.02602,\n",
       "  'Address': '',\n",
       "  'City': 'SUNNYVALE',\n",
       "  'State': 'CA',\n",
       "  'Zip': '94085',\n",
       "  'Country': 'US'}]"
      ]
     },
     "execution_count": 39,
     "metadata": {},
     "output_type": "execute_result"
    }
   ],
   "source": [
    "# Observemos `data_json2`\n",
    "data_json2"
   ]
  },
  {
   "cell_type": "code",
   "execution_count": 40,
   "id": "SyYOnvNlVhAM",
   "metadata": {
    "colab": {
     "base_uri": "https://localhost:8080/"
    },
    "executionInfo": {
     "elapsed": 10,
     "status": "ok",
     "timestamp": 1694557207381,
     "user": {
      "displayName": "Didier Gamboa",
      "userId": "10298588528589042889"
     },
     "user_tz": 360
    },
    "id": "SyYOnvNlVhAM",
    "outputId": "a494b79f-abe5-4a86-fb2e-ce65ae8a6095"
   },
   "outputs": [
    {
     "name": "stdout",
     "output_type": "stream",
     "text": [
      "{'precision': 'zip', 'Latitude': 37.7668, 'Longitude': -122.3959, 'Address': '', 'City': 'SAN FRANCISCO', 'State': 'CA', 'Zip': '94107', 'Country': 'US'}\n",
      "{'precision': 'zip', 'Latitude': 37.371991, 'Longitude': -122.02602, 'Address': '', 'City': 'SUNNYVALE', 'State': 'CA', 'Zip': '94085', 'Country': 'US'}\n"
     ]
    }
   ],
   "source": [
    "for item in data_json2:\n",
    "  print(item)"
   ]
  },
  {
   "cell_type": "code",
   "execution_count": 41,
   "id": "LTS0g-SrCAlA",
   "metadata": {
    "colab": {
     "base_uri": "https://localhost:8080/"
    },
    "executionInfo": {
     "elapsed": 8,
     "status": "ok",
     "timestamp": 1694557207381,
     "user": {
      "displayName": "Didier Gamboa",
      "userId": "10298588528589042889"
     },
     "user_tz": 360
    },
    "id": "LTS0g-SrCAlA",
    "outputId": "042e6e96-0168-48b0-ea9d-2c747621a309"
   },
   "outputs": [
    {
     "name": "stdout",
     "output_type": "stream",
     "text": [
      "Coordenadas: 37.7668 -122.3959\n",
      "Coordenadas: 37.371991 -122.02602\n"
     ]
    }
   ],
   "source": [
    "# Iteremos sobre cada elemento para acceder a su información\n",
    "for item in data_json2:\n",
    "  print(\"Coordenadas:\",item[\"Latitude\"], item[\"Longitude\"])"
   ]
  },
  {
   "cell_type": "code",
   "execution_count": 42,
   "id": "hVOrgDdOWAzg",
   "metadata": {
    "colab": {
     "base_uri": "https://localhost:8080/"
    },
    "executionInfo": {
     "elapsed": 6,
     "status": "ok",
     "timestamp": 1694557207381,
     "user": {
      "displayName": "Didier Gamboa",
      "userId": "10298588528589042889"
     },
     "user_tz": 360
    },
    "id": "hVOrgDdOWAzg",
    "outputId": "def2a227-cc4b-4b88-d29c-dc94bc928680"
   },
   "outputs": [
    {
     "name": "stdout",
     "output_type": "stream",
     "text": [
      "city: SAN FRANCISCO\n",
      "city: SUNNYVALE\n"
     ]
    }
   ],
   "source": [
    "# Iteremos sobre cada elemento para acceder a su \"City\"\n",
    "for item in data_json2:\n",
    "  print(\"city:\", item[\"City\"])"
   ]
  },
  {
   "cell_type": "markdown",
   "id": "079f2015",
   "metadata": {
    "id": "079f2015"
   },
   "source": [
    "## 3 Uso de APIs\n",
    "\n",
    "Las Application Programming Interfaces (APIs) permiten servir como lingua franca entre diferentes elementos de software que interactuan entre sí. Estas establecen un conjunto de servicios que están disponibles para el uso de otras aplicaciones, así como las reglas que deben seguirse para acceder a estos recursos.\n",
    "\n",
    "A continuación se proveen un conjunto de recursos para entender cómo funcionan las API:\n",
    "* ¿Qué es una API? por BBVA ([Infografía](https://www.bbvaapimarket.com/es/mundo-api/infografia-que-es-una-api/)).\n",
    "* ¿Qué es una API? por CódigoFacilito ([Video](https://www.youtube.com/watch?v=OqZbg1OIPBE)).\n",
    "\n",
    "En resumen, las APIs establecen un conjunto de servicios que están disponibles para el uso de otras aplicaciones, y las reglas que deben seguirse para acceder a ellos. Un tipo específicos de APIs son las basadas en web o web-based APIs, las cuales utilizan servicios web para el intercambio de información. Consideremos que se desea acceder a un conjunto de datos específicos a través de una web-based API. Comúnmente, el programa hará una petición a la API via HTTP indicando la información que se desea obtener. La API devolverá los datos en formatos estándar como JSON.\n",
    "\n",
    "Considera las siguientes APIs:\n",
    "* [Open API](http://open-notify.org). Esta API nos brinda información sobre la Estación Espacial Internacional.\n",
    "* [Sunrise Sunset](https://sunrise-sunset.org/api). Esta API nos brinda información sobre la hora de salida y puesta del Sol.\n",
    "\n",
    "\n",
    "### 3.1 Posición de la ISS\n",
    "\n",
    "La posición de la Estación Espacial Internacional puede accederse mediante la siguiente [endpoint](http://open-notify.org/Open-Notify-API/ISS-Location-Now/). Observa que la documentación describe cómo acceder a los datos.\n"
   ]
  },
  {
   "cell_type": "code",
   "execution_count": 43,
   "id": "a7d18c55",
   "metadata": {
    "executionInfo": {
     "elapsed": 434,
     "status": "ok",
     "timestamp": 1694559328383,
     "user": {
      "displayName": "Didier Gamboa",
      "userId": "10298588528589042889"
     },
     "user_tz": 360
    },
    "id": "a7d18c55"
   },
   "outputs": [],
   "source": [
    "import requests"
   ]
  },
  {
   "cell_type": "code",
   "execution_count": 44,
   "id": "393def13",
   "metadata": {
    "executionInfo": {
     "elapsed": 230,
     "status": "ok",
     "timestamp": 1694559342220,
     "user": {
      "displayName": "Didier Gamboa",
      "userId": "10298588528589042889"
     },
     "user_tz": 360
    },
    "id": "393def13"
   },
   "outputs": [],
   "source": [
    "# Acceso a la Posición (abrir URL)\n",
    "url = \"http://api.open-notify.org/iss-now.json\"\n",
    "results = requests.get(url)"
   ]
  },
  {
   "cell_type": "code",
   "execution_count": 45,
   "id": "WK31fwEff9Tj",
   "metadata": {
    "colab": {
     "base_uri": "https://localhost:8080/",
     "height": 73
    },
    "executionInfo": {
     "elapsed": 152,
     "status": "ok",
     "timestamp": 1694559361153,
     "user": {
      "displayName": "Didier Gamboa",
      "userId": "10298588528589042889"
     },
     "user_tz": 360
    },
    "id": "WK31fwEff9Tj",
    "outputId": "c9497540-070f-487b-fb75-554a4abb51e6"
   },
   "outputs": [
    {
     "data": {
      "text/plain": [
       "'{\"message\": \"success\", \"iss_position\": {\"longitude\": \"-58.0038\", \"latitude\": \"51.4434\"}, \"timestamp\": 1758151609}'"
      ]
     },
     "execution_count": 45,
     "metadata": {},
     "output_type": "execute_result"
    }
   ],
   "source": [
    "results.text"
   ]
  },
  {
   "cell_type": "code",
   "execution_count": 46,
   "id": "9NXShJZbe51X",
   "metadata": {
    "colab": {
     "base_uri": "https://localhost:8080/"
    },
    "executionInfo": {
     "elapsed": 144,
     "status": "ok",
     "timestamp": 1694559506676,
     "user": {
      "displayName": "Didier Gamboa",
      "userId": "10298588528589042889"
     },
     "user_tz": 360
    },
    "id": "9NXShJZbe51X",
    "outputId": "f4f31c72-2987-45ac-fea7-f1294da3040c"
   },
   "outputs": [
    {
     "data": {
      "text/plain": [
       "{'message': 'success',\n",
       " 'iss_position': {'longitude': '-58.0038', 'latitude': '51.4434'},\n",
       " 'timestamp': 1758151609}"
      ]
     },
     "execution_count": 46,
     "metadata": {},
     "output_type": "execute_result"
    }
   ],
   "source": [
    "# Alternativa 1\n",
    "data = json.loads(results.text)\n",
    "data"
   ]
  },
  {
   "cell_type": "code",
   "execution_count": 47,
   "id": "ktMC0L_RDiQA",
   "metadata": {
    "colab": {
     "base_uri": "https://localhost:8080/"
    },
    "executionInfo": {
     "elapsed": 172,
     "status": "ok",
     "timestamp": 1694559546805,
     "user": {
      "displayName": "Didier Gamboa",
      "userId": "10298588528589042889"
     },
     "user_tz": 360
    },
    "id": "ktMC0L_RDiQA",
    "outputId": "99b513a6-97fb-4064-b898-06d031df7da1"
   },
   "outputs": [
    {
     "data": {
      "text/plain": [
       "{'message': 'success',\n",
       " 'iss_position': {'longitude': '-58.0038', 'latitude': '51.4434'},\n",
       " 'timestamp': 1758151609}"
      ]
     },
     "execution_count": 47,
     "metadata": {},
     "output_type": "execute_result"
    }
   ],
   "source": [
    "# Alternativa 2\n",
    "data = results.json()\n",
    "data"
   ]
  },
  {
   "cell_type": "code",
   "execution_count": 48,
   "id": "fnyPUii2DjXs",
   "metadata": {
    "executionInfo": {
     "elapsed": 156,
     "status": "ok",
     "timestamp": 1694559583198,
     "user": {
      "displayName": "Didier Gamboa",
      "userId": "10298588528589042889"
     },
     "user_tz": 360
    },
    "id": "fnyPUii2DjXs"
   },
   "outputs": [],
   "source": [
    "# Accedamos a su latitud y longitud\n",
    "lat = data[\"iss_position\"][\"latitude\"]\n",
    "lon = data[\"iss_position\"][\"longitude\"]"
   ]
  },
  {
   "cell_type": "code",
   "execution_count": 49,
   "id": "YsK9967LD57A",
   "metadata": {
    "colab": {
     "base_uri": "https://localhost:8080/"
    },
    "executionInfo": {
     "elapsed": 372,
     "status": "ok",
     "timestamp": 1694559586934,
     "user": {
      "displayName": "Didier Gamboa",
      "userId": "10298588528589042889"
     },
     "user_tz": 360
    },
    "id": "YsK9967LD57A",
    "outputId": "29ad0673-507d-4021-d354-ff585512adf9"
   },
   "outputs": [
    {
     "name": "stdout",
     "output_type": "stream",
     "text": [
      "lat:  51.4434\n",
      "lon:  -58.0038\n"
     ]
    }
   ],
   "source": [
    "print(f\"lat:  {lat}\")\n",
    "print(f\"lon:  {lon}\")"
   ]
  },
  {
   "cell_type": "markdown",
   "id": "n-925p7mfnao",
   "metadata": {
    "id": "n-925p7mfnao"
   },
   "source": [
    "### 3.2 Personas en el espacio\n",
    "\n",
    "La información de las personas en el espacio puede accederse mediante el siguiente [endpoint](http://open-notify.org/Open-Notify-API/People-In-Space/). Observa que la documentación describe cómo acceder a los datos."
   ]
  },
  {
   "cell_type": "code",
   "execution_count": 50,
   "id": "TS6eLZ5MD86d",
   "metadata": {
    "executionInfo": {
     "elapsed": 346,
     "status": "ok",
     "timestamp": 1694559669300,
     "user": {
      "displayName": "Didier Gamboa",
      "userId": "10298588528589042889"
     },
     "user_tz": 360
    },
    "id": "TS6eLZ5MD86d"
   },
   "outputs": [],
   "source": [
    "# URL\n",
    "url = \"http://api.open-notify.org/astros.json\"\n",
    "\n",
    "# Petición de los Datos\n",
    "results = requests.get(url)\n",
    "\n",
    "# Datos\n",
    "data = results.json()"
   ]
  },
  {
   "cell_type": "code",
   "execution_count": 51,
   "id": "2ej39UCCEbuJ",
   "metadata": {
    "colab": {
     "base_uri": "https://localhost:8080/"
    },
    "executionInfo": {
     "elapsed": 378,
     "status": "ok",
     "timestamp": 1694559694153,
     "user": {
      "displayName": "Didier Gamboa",
      "userId": "10298588528589042889"
     },
     "user_tz": 360
    },
    "id": "2ej39UCCEbuJ",
    "outputId": "5244ea54-f05a-4740-fe8f-4a7aa324e4a6"
   },
   "outputs": [
    {
     "data": {
      "text/plain": [
       "{'people': [{'craft': 'ISS', 'name': 'Oleg Kononenko'},\n",
       "  {'craft': 'ISS', 'name': 'Nikolai Chub'},\n",
       "  {'craft': 'ISS', 'name': 'Tracy Caldwell Dyson'},\n",
       "  {'craft': 'ISS', 'name': 'Matthew Dominick'},\n",
       "  {'craft': 'ISS', 'name': 'Michael Barratt'},\n",
       "  {'craft': 'ISS', 'name': 'Jeanette Epps'},\n",
       "  {'craft': 'ISS', 'name': 'Alexander Grebenkin'},\n",
       "  {'craft': 'ISS', 'name': 'Butch Wilmore'},\n",
       "  {'craft': 'ISS', 'name': 'Sunita Williams'},\n",
       "  {'craft': 'Tiangong', 'name': 'Li Guangsu'},\n",
       "  {'craft': 'Tiangong', 'name': 'Li Cong'},\n",
       "  {'craft': 'Tiangong', 'name': 'Ye Guangfu'}],\n",
       " 'number': 12,\n",
       " 'message': 'success'}"
      ]
     },
     "execution_count": 51,
     "metadata": {},
     "output_type": "execute_result"
    }
   ],
   "source": [
    "data"
   ]
  },
  {
   "cell_type": "code",
   "execution_count": 52,
   "id": "O1u31e24gG_K",
   "metadata": {
    "colab": {
     "base_uri": "https://localhost:8080/"
    },
    "executionInfo": {
     "elapsed": 165,
     "status": "ok",
     "timestamp": 1694559732914,
     "user": {
      "displayName": "Didier Gamboa",
      "userId": "10298588528589042889"
     },
     "user_tz": 360
    },
    "id": "O1u31e24gG_K",
    "outputId": "3ef104aa-24ab-4ad1-e45c-3902ccae4c93"
   },
   "outputs": [
    {
     "data": {
      "text/plain": [
       "12"
      ]
     },
     "execution_count": 52,
     "metadata": {},
     "output_type": "execute_result"
    }
   ],
   "source": [
    "data[\"number\"]"
   ]
  },
  {
   "cell_type": "code",
   "execution_count": 53,
   "id": "mWbRNECyEb6L",
   "metadata": {
    "colab": {
     "base_uri": "https://localhost:8080/"
    },
    "executionInfo": {
     "elapsed": 140,
     "status": "ok",
     "timestamp": 1694559751751,
     "user": {
      "displayName": "Didier Gamboa",
      "userId": "10298588528589042889"
     },
     "user_tz": 360
    },
    "id": "mWbRNECyEb6L",
    "outputId": "a7097b2a-81cd-4ed6-aab3-2a7d900fad6c"
   },
   "outputs": [
    {
     "name": "stdout",
     "output_type": "stream",
     "text": [
      "Oleg Kononenko\n",
      "Nikolai Chub\n",
      "Tracy Caldwell Dyson\n",
      "Matthew Dominick\n",
      "Michael Barratt\n",
      "Jeanette Epps\n",
      "Alexander Grebenkin\n",
      "Butch Wilmore\n",
      "Sunita Williams\n",
      "Li Guangsu\n",
      "Li Cong\n",
      "Ye Guangfu\n"
     ]
    }
   ],
   "source": [
    "# Accedamos al nombre de cada astronauta\n",
    "for astronaut_data in data[\"people\"]:\n",
    "  print(astronaut_data[\"name\"])"
   ]
  },
  {
   "cell_type": "markdown",
   "id": "iGwqibfJgWwq",
   "metadata": {
    "id": "iGwqibfJgWwq"
   },
   "source": [
    "### 3.3 Uso de Parámetros\n",
    "\n",
    "La API Sunrise-Sunset provee los tiempos de salida y puesta del sol dada la latitud, longitud y fecha. La documentación de la misma se encuentra en el siguiente [enlace](https://sunrise-sunset.org/api).\n",
    "\n",
    "Observa con detenimiento, la manera en que se estructura la URL y cómo se proporcionan los datos."
   ]
  },
  {
   "cell_type": "code",
   "execution_count": 54,
   "id": "qEwVROgbgDsy",
   "metadata": {
    "executionInfo": {
     "elapsed": 177,
     "status": "ok",
     "timestamp": 1694560664884,
     "user": {
      "displayName": "Didier Gamboa",
      "userId": "10298588528589042889"
     },
     "user_tz": 360
    },
    "id": "qEwVROgbgDsy"
   },
   "outputs": [],
   "source": [
    "# URL (ver documentación)\n",
    "url = \"https://api.sunrise-sunset.org/json\""
   ]
  },
  {
   "cell_type": "code",
   "execution_count": 55,
   "id": "gM5-9lRGgnW7",
   "metadata": {
    "executionInfo": {
     "elapsed": 144,
     "status": "ok",
     "timestamp": 1694560739847,
     "user": {
      "displayName": "Didier Gamboa",
      "userId": "10298588528589042889"
     },
     "user_tz": 360
    },
    "id": "gM5-9lRGgnW7"
   },
   "outputs": [],
   "source": [
    "# Parámetros\n",
    "params = {'lat' : \"20.9888\",\n",
    "          'lng' : \"-89.7373\",\n",
    "          'date': \"2025-09-17\"}"
   ]
  },
  {
   "cell_type": "code",
   "execution_count": 56,
   "id": "HbDF4MwKhYZY",
   "metadata": {
    "executionInfo": {
     "elapsed": 689,
     "status": "ok",
     "timestamp": 1694560753442,
     "user": {
      "displayName": "Didier Gamboa",
      "userId": "10298588528589042889"
     },
     "user_tz": 360
    },
    "id": "HbDF4MwKhYZY"
   },
   "outputs": [],
   "source": [
    "# Petición de Información\n",
    "response = requests.get(url, params=params)"
   ]
  },
  {
   "cell_type": "code",
   "execution_count": 57,
   "id": "blFWST5zis18",
   "metadata": {
    "colab": {
     "base_uri": "https://localhost:8080/",
     "height": 56
    },
    "executionInfo": {
     "elapsed": 202,
     "status": "ok",
     "timestamp": 1694560761969,
     "user": {
      "displayName": "Didier Gamboa",
      "userId": "10298588528589042889"
     },
     "user_tz": 360
    },
    "id": "blFWST5zis18",
    "outputId": "f452e135-b9c3-4895-83b5-abc97c65bdc8"
   },
   "outputs": [
    {
     "data": {
      "text/plain": [
       "'https://api.sunrise-sunset.org/json?lat=20.9888&lng=-89.7373&date=2025-09-17'"
      ]
     },
     "execution_count": 57,
     "metadata": {},
     "output_type": "execute_result"
    }
   ],
   "source": [
    "# Accedo a la URL de la petición\n",
    "response.url"
   ]
  },
  {
   "cell_type": "code",
   "execution_count": 58,
   "id": "dZae1mYAha5s",
   "metadata": {
    "colab": {
     "base_uri": "https://localhost:8080/"
    },
    "executionInfo": {
     "elapsed": 180,
     "status": "ok",
     "timestamp": 1694560772077,
     "user": {
      "displayName": "Didier Gamboa",
      "userId": "10298588528589042889"
     },
     "user_tz": 360
    },
    "id": "dZae1mYAha5s",
    "outputId": "54f58149-813e-4980-b563-a3f6082f4009"
   },
   "outputs": [
    {
     "data": {
      "text/plain": [
       "{'results': {'sunrise': '11:45:33 AM',\n",
       "  'sunset': '12:00:57 AM',\n",
       "  'solar_noon': '5:53:15 PM',\n",
       "  'day_length': '12:15:24',\n",
       "  'civil_twilight_begin': '11:24:31 AM',\n",
       "  'civil_twilight_end': '12:21:59 AM',\n",
       "  'nautical_twilight_begin': '10:58:41 AM',\n",
       "  'nautical_twilight_end': '12:47:49 AM',\n",
       "  'astronomical_twilight_begin': '10:32:43 AM',\n",
       "  'astronomical_twilight_end': '1:13:47 AM'},\n",
       " 'status': 'OK',\n",
       " 'tzid': 'UTC'}"
      ]
     },
     "execution_count": 58,
     "metadata": {},
     "output_type": "execute_result"
    }
   ],
   "source": [
    "# Datos obtenidos\n",
    "data = response.json()\n",
    "data"
   ]
  }
 ],
 "metadata": {
  "colab": {
   "collapsed_sections": [
    "2f7362a5",
    "n-925p7mfnao",
    "iGwqibfJgWwq"
   ],
   "provenance": [
    {
     "file_id": "1sJX6ZkGkldsPNLkj9JxSOqWhJ34r9T9v",
     "timestamp": 1663583761720
    }
   ]
  },
  "kernelspec": {
   "display_name": "fundamentos-ingenieria-datos",
   "language": "python",
   "name": "python3"
  },
  "language_info": {
   "codemirror_mode": {
    "name": "ipython",
    "version": 3
   },
   "file_extension": ".py",
   "mimetype": "text/x-python",
   "name": "python",
   "nbconvert_exporter": "python",
   "pygments_lexer": "ipython3",
   "version": "3.13.7"
  }
 },
 "nbformat": 4,
 "nbformat_minor": 5
}
