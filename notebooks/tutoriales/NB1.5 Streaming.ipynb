{
 "cells": [
  {
   "cell_type": "markdown",
   "metadata": {},
   "source": [
    "# NB1.5 — Streaming vs Batch (WebSockets & Polling)\n",
    "\n",
    "En esta práctica implementamos **Streaming** con WebSockets y **Batch frecuente** con HTTP Polling. Guardaremos todo en **JSON Lines** en `../../data/` y compararemos latencia y continuidad.\n",
    "\n",
    "**Objetivos**\n",
    "- Entender diferencias clave **Batch vs Streaming**.\n",
    "- Ejecutar un cliente **WebSocket** para ingesta continua.\n",
    "- Ejecutar **HTTP Polling** como micro-batch.\n",
    "- Comparar resultados en pandas.\n"
   ]
  },
  {
   "cell_type": "markdown",
   "metadata": {},
   "source": [
    "## 1) Dependencias\n",
    "Instalamos librerías requeridas para los scripts en `src/streaming/`."
   ]
  },
  {
   "cell_type": "code",
   "execution_count": 1,
   "metadata": {
    "id": "deps"
   },
   "outputs": [],
   "source": [
    "!pip install -q websockets requests pandas"
   ]
  },
  {
   "cell_type": "markdown",
   "metadata": {},
   "source": [
    "## 2) Streaming (WebSocket)\n",
    "\n",
    "**Salida:** `../../data/stream_ws_YYYY-MM-DD.jsonl`"
   ]
  },
  {
   "cell_type": "code",
   "execution_count": 2,
   "metadata": {
    "id": "stream"
   },
   "outputs": [
    {
     "name": "stderr",
     "output_type": "stream",
     "text": [
      "\"WS_MAX_EVENTS\" no se reconoce como un comando interno o externo,\n",
      "programa o archivo por lotes ejecutable.\n"
     ]
    }
   ],
   "source": [
    "# Limita duración/eventos para la clase\n",
    "!WS_MAX_EVENTS=150 WS_MAX_SECONDS=120 python ../../src/streaming/stream_dual_ws.py"
   ]
  },
  {
   "cell_type": "markdown",
   "metadata": {},
   "source": [
    "## 3) Polling (HTTP)\n",
    "\n",
    "**Salida:** `../../data/poll_bitcoin_YYYY-MM-DD.jsonl`"
   ]
  },
  {
   "cell_type": "code",
   "execution_count": 3,
   "metadata": {
    "id": "poll"
   },
   "outputs": [
    {
     "name": "stdout",
     "output_type": "stream",
     "text": [
      "[POLL] 1/20 -> {'ts': '2025-10-05T18:04:05.016799+00:00', 'source': 'binance', 'instrument': 'BTCUSDT', 'price_usd': 123105.56}\n",
      "[POLL] 2/20 -> {'ts': '2025-10-05T18:04:10.273627+00:00', 'source': 'binance', 'instrument': 'BTCUSDT', 'price_usd': 123105.57}\n",
      "[POLL] 3/20 -> {'ts': '2025-10-05T18:04:15.550737+00:00', 'source': 'binance', 'instrument': 'BTCUSDT', 'price_usd': 123105.56}\n",
      "[POLL] 4/20 -> {'ts': '2025-10-05T18:04:20.803869+00:00', 'source': 'binance', 'instrument': 'BTCUSDT', 'price_usd': 123105.57}\n",
      "[POLL] 5/20 -> {'ts': '2025-10-05T18:04:26.051281+00:00', 'source': 'binance', 'instrument': 'BTCUSDT', 'price_usd': 123105.56}\n",
      "[POLL] 6/20 -> {'ts': '2025-10-05T18:04:31.312153+00:00', 'source': 'binance', 'instrument': 'BTCUSDT', 'price_usd': 123105.56}\n",
      "[POLL] 7/20 -> {'ts': '2025-10-05T18:04:36.559202+00:00', 'source': 'binance', 'instrument': 'BTCUSDT', 'price_usd': 123060.08}\n",
      "[POLL] 8/20 -> {'ts': '2025-10-05T18:04:41.836118+00:00', 'source': 'binance', 'instrument': 'BTCUSDT', 'price_usd': 123080.01}\n",
      "[POLL] 9/20 -> {'ts': '2025-10-05T18:04:47.088127+00:00', 'source': 'binance', 'instrument': 'BTCUSDT', 'price_usd': 123080.02}\n",
      "[POLL] 10/20 -> {'ts': '2025-10-05T18:04:52.336845+00:00', 'source': 'binance', 'instrument': 'BTCUSDT', 'price_usd': 123080.01}\n",
      "[POLL] 11/20 -> {'ts': '2025-10-05T18:04:57.594131+00:00', 'source': 'binance', 'instrument': 'BTCUSDT', 'price_usd': 123080.01}\n",
      "[POLL] 12/20 -> {'ts': '2025-10-05T18:05:02.852776+00:00', 'source': 'binance', 'instrument': 'BTCUSDT', 'price_usd': 123071.12}\n",
      "[POLL] 13/20 -> {'ts': '2025-10-05T18:05:08.148815+00:00', 'source': 'binance', 'instrument': 'BTCUSDT', 'price_usd': 123055.06}\n",
      "[POLL] 14/20 -> {'ts': '2025-10-05T18:05:13.423486+00:00', 'source': 'binance', 'instrument': 'BTCUSDT', 'price_usd': 123055.06}\n",
      "[POLL] 15/20 -> {'ts': '2025-10-05T18:05:18.704596+00:00', 'source': 'binance', 'instrument': 'BTCUSDT', 'price_usd': 123055.07}\n",
      "[POLL] 16/20 -> {'ts': '2025-10-05T18:05:23.963627+00:00', 'source': 'binance', 'instrument': 'BTCUSDT', 'price_usd': 123055.07}\n",
      "[POLL] 17/20 -> {'ts': '2025-10-05T18:05:29.219280+00:00', 'source': 'binance', 'instrument': 'BTCUSDT', 'price_usd': 123055.07}\n",
      "[POLL] 18/20 -> {'ts': '2025-10-05T18:05:34.473864+00:00', 'source': 'binance', 'instrument': 'BTCUSDT', 'price_usd': 123066.28}\n",
      "[POLL] 19/20 -> {'ts': '2025-10-05T18:05:39.725553+00:00', 'source': 'binance', 'instrument': 'BTCUSDT', 'price_usd': 123087.99}\n",
      "[POLL] 20/20 -> {'ts': '2025-10-05T18:05:44.973152+00:00', 'source': 'binance', 'instrument': 'BTCUSDT', 'price_usd': 123092.9}\n",
      "[DONE] Archivo: C:\\Users\\PC STARFISH\\OneDrive\\Documentos\\Fundamentos\\fundamentos-ingenieria-datos\\data\\raw\\poll_binance_BTCUSDT_2025-10-05.jsonl\n"
     ]
    }
   ],
   "source": [
    "!python ../../src/streaming/poll_coincap_http.py"
   ]
  },
  {
   "cell_type": "markdown",
   "metadata": {},
   "source": [
    "## 4) Cargar y comparar en pandas\n",
    "Leemos ambos `.jsonl` y observamos diferencias de granularidad/latencia (aprox.)."
   ]
  },
  {
   "cell_type": "code",
   "execution_count": 4,
   "metadata": {
    "id": "compare"
   },
   "outputs": [
    {
     "ename": "IndexError",
     "evalue": "list index out of range",
     "output_type": "error",
     "traceback": [
      "\u001b[31m---------------------------------------------------------------------------\u001b[39m",
      "\u001b[31mIndexError\u001b[39m                                Traceback (most recent call last)",
      "\u001b[36mCell\u001b[39m\u001b[36m \u001b[39m\u001b[32mIn[4]\u001b[39m\u001b[32m, line 7\u001b[39m\n\u001b[32m      4\u001b[39m data_dir = Path(\u001b[33m\"\u001b[39m\u001b[33m../../data/raw\u001b[39m\u001b[33m\"\u001b[39m)\n\u001b[32m      6\u001b[39m \u001b[38;5;66;03m# STREAM\u001b[39;00m\n\u001b[32m----> \u001b[39m\u001b[32m7\u001b[39m stream_file = \u001b[38;5;28;43msorted\u001b[39;49m\u001b[43m(\u001b[49m\u001b[43mdata_dir\u001b[49m\u001b[43m.\u001b[49m\u001b[43mglob\u001b[49m\u001b[43m(\u001b[49m\u001b[33;43m\"\u001b[39;49m\u001b[33;43mstream_ws_*.jsonl\u001b[39;49m\u001b[33;43m\"\u001b[39;49m\u001b[43m)\u001b[49m\u001b[43m)\u001b[49m\u001b[43m[\u001b[49m\u001b[43m-\u001b[49m\u001b[32;43m1\u001b[39;49m\u001b[43m]\u001b[49m\n\u001b[32m      8\u001b[39m df_stream = pd.read_json(stream_file, lines=\u001b[38;5;28;01mTrue\u001b[39;00m)\n\u001b[32m      9\u001b[39m \u001b[38;5;28mprint\u001b[39m(\u001b[33m\"\u001b[39m\u001b[33mSTREAM:\u001b[39m\u001b[33m\"\u001b[39m, stream_file)\n",
      "\u001b[31mIndexError\u001b[39m: list index out of range"
     ]
    }
   ],
   "source": [
    "from pathlib import Path\n",
    "import pandas as pd\n",
    "\n",
    "data_dir = Path(\"../../data/raw\")\n",
    "\n",
    "# STREAM\n",
    "stream_file = sorted(data_dir.glob(\"stream_ws_*.jsonl\"))[-1]\n",
    "df_stream = pd.read_json(stream_file, lines=True)\n",
    "print(\"STREAM:\", stream_file)\n",
    "display(df_stream.head())\n",
    "\n",
    "# POLL \n",
    "poll_files = sorted(list(data_dir.glob(\"poll_binance_*.jsonl\")) + list(data_dir.glob(\"poll_coincap_*.jsonl\")))\n",
    "poll_file = poll_files[-1]\n",
    "df_poll = pd.read_json(poll_file, lines=True)\n",
    "print(\"POLL:\", poll_file)\n",
    "display(df_poll.head())\n"
   ]
  },
  {
   "cell_type": "markdown",
   "metadata": {},
   "source": [
    "## 5) Reflexión (respuestas cortas)\n",
    "**¿Quién tiene menor latencia?**  \n",
    "\n",
    "**¿Qué pasa si el stream se cae?** \n",
    "\n",
    "**¿Cuál genera más duplicados o huecos temporales?**\n"
   ]
  },
  {
   "cell_type": "markdown",
   "id": "6e28e336",
   "metadata": {},
   "source": [
    "1. El Streaming tiene menor latencia, pues se procesa casi en tiempo real. Mientras que el batch lo realiza por lotes generalmente programados.\n",
    "\n",
    "2. Si el stream se cae se puede perder confiabilidad en los datos a menos que se tengan checkpoints o se hayan programado reintentos.\n",
    "\n",
    "3. El Streaming al estar realizando un monitoreo en tiempo real genera más duplicados o huecos temporales, en cambio batch suele ser más consistente."
   ]
  }
 ],
 "metadata": {
  "kernelspec": {
   "display_name": "fundamentos-ingenieria-datos",
   "language": "python",
   "name": "python3"
  },
  "language_info": {
   "codemirror_mode": {
    "name": "ipython",
    "version": 3
   },
   "file_extension": ".py",
   "mimetype": "text/x-python",
   "name": "python",
   "nbconvert_exporter": "python",
   "pygments_lexer": "ipython3",
   "version": "3.13.7"
  }
 },
 "nbformat": 4,
 "nbformat_minor": 5
}
