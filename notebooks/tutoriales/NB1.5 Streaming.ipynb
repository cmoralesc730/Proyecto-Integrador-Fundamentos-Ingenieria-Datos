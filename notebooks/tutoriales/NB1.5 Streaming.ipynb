{
 "cells": [
  {
   "cell_type": "markdown",
   "metadata": {},
   "source": [
    "# NB1.5 — Streaming vs Batch (WebSockets & Polling)\n",
    "\n",
    "En esta práctica implementamos **Streaming** con WebSockets y **Batch frecuente** con HTTP Polling. Guardaremos todo en **JSON Lines** en `../../data/` y compararemos latencia y continuidad.\n",
    "\n",
    "**Objetivos**\n",
    "- Entender diferencias clave **Batch vs Streaming**.\n",
    "- Ejecutar un cliente **WebSocket** para ingesta continua.\n",
    "- Ejecutar **HTTP Polling** como micro-batch.\n",
    "- Comparar resultados en pandas.\n"
   ]
  },
  {
   "cell_type": "markdown",
   "metadata": {},
   "source": [
    "## 1) Dependencias\n",
    "Instalamos librerías requeridas para los scripts en `src/streaming/`."
   ]
  },
  {
   "cell_type": "code",
   "execution_count": 11,
   "metadata": {
    "id": "deps"
   },
   "outputs": [],
   "source": [
    "!pip install -q websockets requests pandas"
   ]
  },
  {
   "cell_type": "markdown",
   "metadata": {},
   "source": [
    "## 2) Streaming (WebSocket)\n",
    "\n",
    "**Salida:** `../../data/stream_ws_YYYY-MM-DD.jsonl`"
   ]
  },
  {
   "cell_type": "code",
   "execution_count": 12,
   "metadata": {
    "id": "stream"
   },
   "outputs": [
    {
     "name": "stdout",
     "output_type": "stream",
     "text": [
      "/Users/didiergamboa/Documents/Tecnológico de Software/Cuatrimestres/2025 Q3 Septiembre-Diciembre/Fundamentos de Big Data/Proyecto Integrador - Fundamentos de Ingeniería de Datos/fundamentos-ingenieria-datos/notebooks/tutoriales/../../src/streaming/stream_dual_ws.py:8: DeprecationWarning: websockets.exceptions.InvalidStatusCode is deprecated\n",
      "  from websockets.exceptions import ConnectionClosed, InvalidStatusCode\n",
      "[DONE] Eventos: 150\n",
      "/Users/didiergamboa/Documents/Tecnológico de Software/Cuatrimestres/2025 Q3 Septiembre-Diciembre/Fundamentos de Big Data/Proyecto Integrador - Fundamentos de Ingeniería de Datos/fundamentos-ingenieria-datos/data/raw/stream_ws_2025-09-24.jsonl\n"
     ]
    }
   ],
   "source": [
    "# Limita duración/eventos para la clase\n",
    "!WS_MAX_EVENTS=150 WS_MAX_SECONDS=120 python ../../src/streaming/stream_dual_ws.py"
   ]
  },
  {
   "cell_type": "markdown",
   "metadata": {},
   "source": [
    "## 3) Polling (HTTP)\n",
    "\n",
    "**Salida:** `../../data/poll_bitcoin_YYYY-MM-DD.jsonl`"
   ]
  },
  {
   "cell_type": "code",
   "execution_count": 13,
   "metadata": {
    "id": "poll"
   },
   "outputs": [
    {
     "name": "stdout",
     "output_type": "stream",
     "text": [
      "[POLL] 1/20 -> {'ts': '2025-09-24T23:18:46.063799+00:00', 'source': 'binance', 'instrument': 'BTCUSDT', 'price_usd': 113295.79}\n",
      "[POLL] 2/20 -> {'ts': '2025-09-24T23:18:51.335223+00:00', 'source': 'binance', 'instrument': 'BTCUSDT', 'price_usd': 113295.79}\n",
      "[POLL] 3/20 -> {'ts': '2025-09-24T23:18:56.606342+00:00', 'source': 'binance', 'instrument': 'BTCUSDT', 'price_usd': 113295.79}\n",
      "[POLL] 4/20 -> {'ts': '2025-09-24T23:19:01.858261+00:00', 'source': 'binance', 'instrument': 'BTCUSDT', 'price_usd': 113295.8}\n",
      "[POLL] 5/20 -> {'ts': '2025-09-24T23:19:07.123940+00:00', 'source': 'binance', 'instrument': 'BTCUSDT', 'price_usd': 113295.79}\n",
      "[POLL] 6/20 -> {'ts': '2025-09-24T23:19:12.398440+00:00', 'source': 'binance', 'instrument': 'BTCUSDT', 'price_usd': 113288.0}\n",
      "[POLL] 7/20 -> {'ts': '2025-09-24T23:19:17.669882+00:00', 'source': 'binance', 'instrument': 'BTCUSDT', 'price_usd': 113282.35}\n",
      "[POLL] 8/20 -> {'ts': '2025-09-24T23:19:22.946203+00:00', 'source': 'binance', 'instrument': 'BTCUSDT', 'price_usd': 113282.35}\n",
      "[POLL] 9/20 -> {'ts': '2025-09-24T23:19:28.213745+00:00', 'source': 'binance', 'instrument': 'BTCUSDT', 'price_usd': 113285.1}\n",
      "[POLL] 10/20 -> {'ts': '2025-09-24T23:19:33.481831+00:00', 'source': 'binance', 'instrument': 'BTCUSDT', 'price_usd': 113274.21}\n",
      "[POLL] 11/20 -> {'ts': '2025-09-24T23:19:38.748787+00:00', 'source': 'binance', 'instrument': 'BTCUSDT', 'price_usd': 113274.21}\n",
      "[POLL] 12/20 -> {'ts': '2025-09-24T23:19:44.019438+00:00', 'source': 'binance', 'instrument': 'BTCUSDT', 'price_usd': 113274.21}\n",
      "[POLL] 13/20 -> {'ts': '2025-09-24T23:19:49.297926+00:00', 'source': 'binance', 'instrument': 'BTCUSDT', 'price_usd': 113264.88}\n",
      "[POLL] 14/20 -> {'ts': '2025-09-24T23:19:54.561586+00:00', 'source': 'binance', 'instrument': 'BTCUSDT', 'price_usd': 113264.88}\n",
      "[POLL] 15/20 -> {'ts': '2025-09-24T23:19:59.831553+00:00', 'source': 'binance', 'instrument': 'BTCUSDT', 'price_usd': 113264.88}\n",
      "[POLL] 16/20 -> {'ts': '2025-09-24T23:20:05.139473+00:00', 'source': 'binance', 'instrument': 'BTCUSDT', 'price_usd': 113249.22}\n",
      "[POLL] 17/20 -> {'ts': '2025-09-24T23:20:10.413586+00:00', 'source': 'binance', 'instrument': 'BTCUSDT', 'price_usd': 113249.22}\n",
      "[POLL] 18/20 -> {'ts': '2025-09-24T23:20:15.675433+00:00', 'source': 'binance', 'instrument': 'BTCUSDT', 'price_usd': 113247.11}\n",
      "[POLL] 19/20 -> {'ts': '2025-09-24T23:20:20.936907+00:00', 'source': 'binance', 'instrument': 'BTCUSDT', 'price_usd': 113247.09}\n",
      "[POLL] 20/20 -> {'ts': '2025-09-24T23:20:26.220071+00:00', 'source': 'binance', 'instrument': 'BTCUSDT', 'price_usd': 113247.09}\n",
      "[DONE] Archivo: /Users/didiergamboa/Documents/Tecnológico de Software/Cuatrimestres/2025 Q3 Septiembre-Diciembre/Fundamentos de Big Data/Proyecto Integrador - Fundamentos de Ingeniería de Datos/fundamentos-ingenieria-datos/data/raw/poll_binance_BTCUSDT_2025-09-24.jsonl\n"
     ]
    }
   ],
   "source": [
    "!python ../../src/streaming/poll_coincap_http.py"
   ]
  },
  {
   "cell_type": "markdown",
   "metadata": {},
   "source": [
    "## 4) Cargar y comparar en pandas\n",
    "Leemos ambos `.jsonl` y observamos diferencias de granularidad/latencia (aprox.)."
   ]
  },
  {
   "cell_type": "code",
   "execution_count": 17,
   "metadata": {
    "id": "compare"
   },
   "outputs": [
    {
     "name": "stdout",
     "output_type": "stream",
     "text": [
      "STREAM: ../../data/raw/stream_ws_2025-09-24.jsonl\n"
     ]
    },
    {
     "data": {
      "text/html": [
       "<div>\n",
       "<style scoped>\n",
       "    .dataframe tbody tr th:only-of-type {\n",
       "        vertical-align: middle;\n",
       "    }\n",
       "\n",
       "    .dataframe tbody tr th {\n",
       "        vertical-align: top;\n",
       "    }\n",
       "\n",
       "    .dataframe thead th {\n",
       "        text-align: right;\n",
       "    }\n",
       "</style>\n",
       "<table border=\"1\" class=\"dataframe\">\n",
       "  <thead>\n",
       "    <tr style=\"text-align: right;\">\n",
       "      <th></th>\n",
       "      <th>_probe</th>\n",
       "      <th>ts</th>\n",
       "      <th>source</th>\n",
       "      <th>instrument</th>\n",
       "      <th>price</th>\n",
       "      <th>currency</th>\n",
       "      <th>qty</th>\n",
       "      <th>trade_id</th>\n",
       "    </tr>\n",
       "  </thead>\n",
       "  <tbody>\n",
       "    <tr>\n",
       "      <th>0</th>\n",
       "      <td>1.0</td>\n",
       "      <td>2025-09-24T22:53:38.112231+00:00</td>\n",
       "      <td>NaN</td>\n",
       "      <td>NaN</td>\n",
       "      <td>NaN</td>\n",
       "      <td>NaN</td>\n",
       "      <td>NaN</td>\n",
       "      <td>NaN</td>\n",
       "    </tr>\n",
       "    <tr>\n",
       "      <th>1</th>\n",
       "      <td>NaN</td>\n",
       "      <td>2025-09-24T22:53:39.233277+00:00</td>\n",
       "      <td>binance</td>\n",
       "      <td>BTCUSDT</td>\n",
       "      <td>113294.46</td>\n",
       "      <td>USDT</td>\n",
       "      <td>0.00010</td>\n",
       "      <td>5.254424e+09</td>\n",
       "    </tr>\n",
       "    <tr>\n",
       "      <th>2</th>\n",
       "      <td>NaN</td>\n",
       "      <td>2025-09-24T22:53:40.057167+00:00</td>\n",
       "      <td>binance</td>\n",
       "      <td>BTCUSDT</td>\n",
       "      <td>113294.45</td>\n",
       "      <td>USDT</td>\n",
       "      <td>0.01000</td>\n",
       "      <td>5.254424e+09</td>\n",
       "    </tr>\n",
       "    <tr>\n",
       "      <th>3</th>\n",
       "      <td>NaN</td>\n",
       "      <td>2025-09-24T22:53:40.636322+00:00</td>\n",
       "      <td>binance</td>\n",
       "      <td>BTCUSDT</td>\n",
       "      <td>113294.45</td>\n",
       "      <td>USDT</td>\n",
       "      <td>0.00778</td>\n",
       "      <td>5.254424e+09</td>\n",
       "    </tr>\n",
       "    <tr>\n",
       "      <th>4</th>\n",
       "      <td>NaN</td>\n",
       "      <td>2025-09-24T22:53:40.679651+00:00</td>\n",
       "      <td>binance</td>\n",
       "      <td>BTCUSDT</td>\n",
       "      <td>113294.45</td>\n",
       "      <td>USDT</td>\n",
       "      <td>0.00066</td>\n",
       "      <td>5.254424e+09</td>\n",
       "    </tr>\n",
       "  </tbody>\n",
       "</table>\n",
       "</div>"
      ],
      "text/plain": [
       "   _probe                                ts   source instrument      price  \\\n",
       "0     1.0  2025-09-24T22:53:38.112231+00:00      NaN        NaN        NaN   \n",
       "1     NaN  2025-09-24T22:53:39.233277+00:00  binance    BTCUSDT  113294.46   \n",
       "2     NaN  2025-09-24T22:53:40.057167+00:00  binance    BTCUSDT  113294.45   \n",
       "3     NaN  2025-09-24T22:53:40.636322+00:00  binance    BTCUSDT  113294.45   \n",
       "4     NaN  2025-09-24T22:53:40.679651+00:00  binance    BTCUSDT  113294.45   \n",
       "\n",
       "  currency      qty      trade_id  \n",
       "0      NaN      NaN           NaN  \n",
       "1     USDT  0.00010  5.254424e+09  \n",
       "2     USDT  0.01000  5.254424e+09  \n",
       "3     USDT  0.00778  5.254424e+09  \n",
       "4     USDT  0.00066  5.254424e+09  "
      ]
     },
     "metadata": {},
     "output_type": "display_data"
    },
    {
     "name": "stdout",
     "output_type": "stream",
     "text": [
      "POLL: ../../data/raw/poll_binance_BTCUSDT_2025-09-24.jsonl\n"
     ]
    },
    {
     "data": {
      "text/html": [
       "<div>\n",
       "<style scoped>\n",
       "    .dataframe tbody tr th:only-of-type {\n",
       "        vertical-align: middle;\n",
       "    }\n",
       "\n",
       "    .dataframe tbody tr th {\n",
       "        vertical-align: top;\n",
       "    }\n",
       "\n",
       "    .dataframe thead th {\n",
       "        text-align: right;\n",
       "    }\n",
       "</style>\n",
       "<table border=\"1\" class=\"dataframe\">\n",
       "  <thead>\n",
       "    <tr style=\"text-align: right;\">\n",
       "      <th></th>\n",
       "      <th>ts</th>\n",
       "      <th>source</th>\n",
       "      <th>instrument</th>\n",
       "      <th>price_usd</th>\n",
       "    </tr>\n",
       "  </thead>\n",
       "  <tbody>\n",
       "    <tr>\n",
       "      <th>0</th>\n",
       "      <td>2025-09-24T23:18:46.063799+00:00</td>\n",
       "      <td>binance</td>\n",
       "      <td>BTCUSDT</td>\n",
       "      <td>113295.79</td>\n",
       "    </tr>\n",
       "    <tr>\n",
       "      <th>1</th>\n",
       "      <td>2025-09-24T23:18:51.335223+00:00</td>\n",
       "      <td>binance</td>\n",
       "      <td>BTCUSDT</td>\n",
       "      <td>113295.79</td>\n",
       "    </tr>\n",
       "    <tr>\n",
       "      <th>2</th>\n",
       "      <td>2025-09-24T23:18:56.606342+00:00</td>\n",
       "      <td>binance</td>\n",
       "      <td>BTCUSDT</td>\n",
       "      <td>113295.79</td>\n",
       "    </tr>\n",
       "    <tr>\n",
       "      <th>3</th>\n",
       "      <td>2025-09-24T23:19:01.858261+00:00</td>\n",
       "      <td>binance</td>\n",
       "      <td>BTCUSDT</td>\n",
       "      <td>113295.80</td>\n",
       "    </tr>\n",
       "    <tr>\n",
       "      <th>4</th>\n",
       "      <td>2025-09-24T23:19:07.123940+00:00</td>\n",
       "      <td>binance</td>\n",
       "      <td>BTCUSDT</td>\n",
       "      <td>113295.79</td>\n",
       "    </tr>\n",
       "  </tbody>\n",
       "</table>\n",
       "</div>"
      ],
      "text/plain": [
       "                                 ts   source instrument  price_usd\n",
       "0  2025-09-24T23:18:46.063799+00:00  binance    BTCUSDT  113295.79\n",
       "1  2025-09-24T23:18:51.335223+00:00  binance    BTCUSDT  113295.79\n",
       "2  2025-09-24T23:18:56.606342+00:00  binance    BTCUSDT  113295.79\n",
       "3  2025-09-24T23:19:01.858261+00:00  binance    BTCUSDT  113295.80\n",
       "4  2025-09-24T23:19:07.123940+00:00  binance    BTCUSDT  113295.79"
      ]
     },
     "metadata": {},
     "output_type": "display_data"
    }
   ],
   "source": [
    "from pathlib import Path\n",
    "import pandas as pd\n",
    "\n",
    "data_dir = Path(\"../../data/raw\")\n",
    "\n",
    "# STREAM\n",
    "stream_file = sorted(data_dir.glob(\"stream_ws_*.jsonl\"))[-1]\n",
    "df_stream = pd.read_json(stream_file, lines=True)\n",
    "print(\"STREAM:\", stream_file)\n",
    "display(df_stream.head())\n",
    "\n",
    "# POLL \n",
    "poll_files = sorted(list(data_dir.glob(\"poll_binance_*.jsonl\")) + list(data_dir.glob(\"poll_coincap_*.jsonl\")))\n",
    "poll_file = poll_files[-1]\n",
    "df_poll = pd.read_json(poll_file, lines=True)\n",
    "print(\"POLL:\", poll_file)\n",
    "display(df_poll.head())\n"
   ]
  },
  {
   "cell_type": "markdown",
   "metadata": {},
   "source": [
    "## 5) Reflexión (respuestas cortas)\n",
    "**¿Quién tiene menor latencia?**  \n",
    "\n",
    "**¿Qué pasa si el stream se cae?** \n",
    "\n",
    "**¿Cuál genera más duplicados o huecos temporales?**\n"
   ]
  },
  {
   "cell_type": "markdown",
   "id": "6e28e336",
   "metadata": {},
   "source": []
  }
 ],
 "metadata": {
  "kernelspec": {
   "display_name": "fundamentos-ingenieria-datos",
   "language": "python",
   "name": "python3"
  },
  "language_info": {
   "codemirror_mode": {
    "name": "ipython",
    "version": 3
   },
   "file_extension": ".py",
   "mimetype": "text/x-python",
   "name": "python",
   "nbconvert_exporter": "python",
   "pygments_lexer": "ipython3",
   "version": "3.13.7"
  }
 },
 "nbformat": 4,
 "nbformat_minor": 5
}
